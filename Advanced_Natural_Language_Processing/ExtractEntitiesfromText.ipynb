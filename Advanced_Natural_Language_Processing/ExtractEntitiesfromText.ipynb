{
  "cells": [
    {
      "metadata": {
        "collapsed": true
      },
      "cell_type": "markdown",
      "source": "## Extract Entities from text\n        \nIn this recipe we are going to discuss how to identify and extract entities from the text, called Named Entity Recognition(NER). There are multiple libraries to perform this task like NLTK chunker, StanfordNER, SPacy, opennlp and NeuroNER and there are lot of API's also like WatsonNLU, ALchemyAPI, Google CLoud NLP API, NERD, and many more"
    },
    {
      "metadata": {
        "trusted": true
      },
      "cell_type": "code",
      "source": "import nltk\nnltk.download('maxent_ne_chunker')\nnltk.download('words')",
      "execution_count": 4,
      "outputs": [
        {
          "output_type": "stream",
          "text": "[nltk_data] Downloading package maxent_ne_chunker to\n[nltk_data]     /home/nbuser/nltk_data...\n[nltk_data]   Package maxent_ne_chunker is already up-to-date!\n[nltk_data] Downloading package words to /home/nbuser/nltk_data...\n[nltk_data]   Package words is already up-to-date!\n",
          "name": "stdout"
        },
        {
          "output_type": "execute_result",
          "execution_count": 4,
          "data": {
            "text/plain": "True"
          },
          "metadata": {}
        }
      ]
    },
    {
      "metadata": {
        "trusted": true
      },
      "cell_type": "code",
      "source": "nltk.pos_tag(word_tokenize(sent))",
      "execution_count": 3,
      "outputs": [
        {
          "output_type": "execute_result",
          "execution_count": 3,
          "data": {
            "text/plain": "[('John', 'NNP'),\n ('is', 'VBZ'),\n ('studying', 'VBG'),\n ('at', 'IN'),\n ('stanford', 'NN'),\n ('University', 'NNP'),\n ('in', 'IN'),\n ('California', 'NNP')]"
          },
          "metadata": {}
        }
      ]
    },
    {
      "metadata": {
        "trusted": true
      },
      "cell_type": "code",
      "source": "# using nltk chunker\nsent = 'John is studying at stanford University in California'\nimport nltk\nfrom nltk import ne_chunk\nfrom nltk import word_tokenize\n\nne_chunk(nltk.pos_tag(word_tokenize(sent)), binary=True)",
      "execution_count": 1,
      "outputs": [
        {
          "output_type": "error",
          "ename": "TclError",
          "evalue": "no display name and no $DISPLAY environment variable",
          "traceback": [
            "\u001b[0;31m---------------------------------------------------------------------------\u001b[0m",
            "\u001b[0;31mTclError\u001b[0m                                  Traceback (most recent call last)",
            "\u001b[0;32m~/anaconda3_420/lib/python3.5/site-packages/IPython/core/formatters.py\u001b[0m in \u001b[0;36m__call__\u001b[0;34m(self, obj)\u001b[0m\n\u001b[1;32m    343\u001b[0m             \u001b[0mmethod\u001b[0m \u001b[0;34m=\u001b[0m \u001b[0mget_real_method\u001b[0m\u001b[0;34m(\u001b[0m\u001b[0mobj\u001b[0m\u001b[0;34m,\u001b[0m \u001b[0mself\u001b[0m\u001b[0;34m.\u001b[0m\u001b[0mprint_method\u001b[0m\u001b[0;34m)\u001b[0m\u001b[0;34m\u001b[0m\u001b[0m\n\u001b[1;32m    344\u001b[0m             \u001b[0;32mif\u001b[0m \u001b[0mmethod\u001b[0m \u001b[0;32mis\u001b[0m \u001b[0;32mnot\u001b[0m \u001b[0;32mNone\u001b[0m\u001b[0;34m:\u001b[0m\u001b[0;34m\u001b[0m\u001b[0m\n\u001b[0;32m--> 345\u001b[0;31m                 \u001b[0;32mreturn\u001b[0m \u001b[0mmethod\u001b[0m\u001b[0;34m(\u001b[0m\u001b[0;34m)\u001b[0m\u001b[0;34m\u001b[0m\u001b[0m\n\u001b[0m\u001b[1;32m    346\u001b[0m             \u001b[0;32mreturn\u001b[0m \u001b[0;32mNone\u001b[0m\u001b[0;34m\u001b[0m\u001b[0m\n\u001b[1;32m    347\u001b[0m         \u001b[0;32melse\u001b[0m\u001b[0;34m:\u001b[0m\u001b[0;34m\u001b[0m\u001b[0m\n",
            "\u001b[0;32m~/anaconda3_420/lib/python3.5/site-packages/nltk/tree.py\u001b[0m in \u001b[0;36m_repr_png_\u001b[0;34m(self)\u001b[0m\n\u001b[1;32m    713\u001b[0m         \u001b[0;32mfrom\u001b[0m \u001b[0mnltk\u001b[0m\u001b[0;34m.\u001b[0m\u001b[0mdraw\u001b[0m\u001b[0;34m.\u001b[0m\u001b[0mutil\u001b[0m \u001b[0;32mimport\u001b[0m \u001b[0mCanvasFrame\u001b[0m\u001b[0;34m\u001b[0m\u001b[0m\n\u001b[1;32m    714\u001b[0m         \u001b[0;32mfrom\u001b[0m \u001b[0mnltk\u001b[0m\u001b[0;34m.\u001b[0m\u001b[0minternals\u001b[0m \u001b[0;32mimport\u001b[0m \u001b[0mfind_binary\u001b[0m\u001b[0;34m\u001b[0m\u001b[0m\n\u001b[0;32m--> 715\u001b[0;31m         \u001b[0m_canvas_frame\u001b[0m \u001b[0;34m=\u001b[0m \u001b[0mCanvasFrame\u001b[0m\u001b[0;34m(\u001b[0m\u001b[0;34m)\u001b[0m\u001b[0;34m\u001b[0m\u001b[0m\n\u001b[0m\u001b[1;32m    716\u001b[0m         \u001b[0mwidget\u001b[0m \u001b[0;34m=\u001b[0m \u001b[0mtree_to_treesegment\u001b[0m\u001b[0;34m(\u001b[0m\u001b[0m_canvas_frame\u001b[0m\u001b[0;34m.\u001b[0m\u001b[0mcanvas\u001b[0m\u001b[0;34m(\u001b[0m\u001b[0;34m)\u001b[0m\u001b[0;34m,\u001b[0m \u001b[0mself\u001b[0m\u001b[0;34m)\u001b[0m\u001b[0;34m\u001b[0m\u001b[0m\n\u001b[1;32m    717\u001b[0m         \u001b[0m_canvas_frame\u001b[0m\u001b[0;34m.\u001b[0m\u001b[0madd_widget\u001b[0m\u001b[0;34m(\u001b[0m\u001b[0mwidget\u001b[0m\u001b[0;34m)\u001b[0m\u001b[0;34m\u001b[0m\u001b[0m\n",
            "\u001b[0;32m~/anaconda3_420/lib/python3.5/site-packages/nltk/draw/util.py\u001b[0m in \u001b[0;36m__init__\u001b[0;34m(self, parent, **kw)\u001b[0m\n\u001b[1;32m   1652\u001b[0m         \u001b[0;31m# If no parent was given, set up a top-level window.\u001b[0m\u001b[0;34m\u001b[0m\u001b[0;34m\u001b[0m\u001b[0m\n\u001b[1;32m   1653\u001b[0m         \u001b[0;32mif\u001b[0m \u001b[0mparent\u001b[0m \u001b[0;32mis\u001b[0m \u001b[0;32mNone\u001b[0m\u001b[0;34m:\u001b[0m\u001b[0;34m\u001b[0m\u001b[0m\n\u001b[0;32m-> 1654\u001b[0;31m             \u001b[0mself\u001b[0m\u001b[0;34m.\u001b[0m\u001b[0m_parent\u001b[0m \u001b[0;34m=\u001b[0m \u001b[0mTk\u001b[0m\u001b[0;34m(\u001b[0m\u001b[0;34m)\u001b[0m\u001b[0;34m\u001b[0m\u001b[0m\n\u001b[0m\u001b[1;32m   1655\u001b[0m             \u001b[0mself\u001b[0m\u001b[0;34m.\u001b[0m\u001b[0m_parent\u001b[0m\u001b[0;34m.\u001b[0m\u001b[0mtitle\u001b[0m\u001b[0;34m(\u001b[0m\u001b[0;34m'NLTK'\u001b[0m\u001b[0;34m)\u001b[0m\u001b[0;34m\u001b[0m\u001b[0m\n\u001b[1;32m   1656\u001b[0m             \u001b[0mself\u001b[0m\u001b[0;34m.\u001b[0m\u001b[0m_parent\u001b[0m\u001b[0;34m.\u001b[0m\u001b[0mbind\u001b[0m\u001b[0;34m(\u001b[0m\u001b[0;34m'<Control-p>'\u001b[0m\u001b[0;34m,\u001b[0m \u001b[0;32mlambda\u001b[0m \u001b[0me\u001b[0m\u001b[0;34m:\u001b[0m \u001b[0mself\u001b[0m\u001b[0;34m.\u001b[0m\u001b[0mprint_to_file\u001b[0m\u001b[0;34m(\u001b[0m\u001b[0;34m)\u001b[0m\u001b[0;34m)\u001b[0m\u001b[0;34m\u001b[0m\u001b[0m\n",
            "\u001b[0;32m~/anaconda3_420/lib/python3.5/tkinter/__init__.py\u001b[0m in \u001b[0;36m__init__\u001b[0;34m(self, screenName, baseName, className, useTk, sync, use)\u001b[0m\n\u001b[1;32m   1874\u001b[0m                 \u001b[0mbaseName\u001b[0m \u001b[0;34m=\u001b[0m \u001b[0mbaseName\u001b[0m \u001b[0;34m+\u001b[0m \u001b[0mext\u001b[0m\u001b[0;34m\u001b[0m\u001b[0m\n\u001b[1;32m   1875\u001b[0m         \u001b[0minteractive\u001b[0m \u001b[0;34m=\u001b[0m \u001b[0;36m0\u001b[0m\u001b[0;34m\u001b[0m\u001b[0m\n\u001b[0;32m-> 1876\u001b[0;31m         \u001b[0mself\u001b[0m\u001b[0;34m.\u001b[0m\u001b[0mtk\u001b[0m \u001b[0;34m=\u001b[0m \u001b[0m_tkinter\u001b[0m\u001b[0;34m.\u001b[0m\u001b[0mcreate\u001b[0m\u001b[0;34m(\u001b[0m\u001b[0mscreenName\u001b[0m\u001b[0;34m,\u001b[0m \u001b[0mbaseName\u001b[0m\u001b[0;34m,\u001b[0m \u001b[0mclassName\u001b[0m\u001b[0;34m,\u001b[0m \u001b[0minteractive\u001b[0m\u001b[0;34m,\u001b[0m \u001b[0mwantobjects\u001b[0m\u001b[0;34m,\u001b[0m \u001b[0museTk\u001b[0m\u001b[0;34m,\u001b[0m \u001b[0msync\u001b[0m\u001b[0;34m,\u001b[0m \u001b[0muse\u001b[0m\u001b[0;34m)\u001b[0m\u001b[0;34m\u001b[0m\u001b[0m\n\u001b[0m\u001b[1;32m   1877\u001b[0m         \u001b[0;32mif\u001b[0m \u001b[0museTk\u001b[0m\u001b[0;34m:\u001b[0m\u001b[0;34m\u001b[0m\u001b[0m\n\u001b[1;32m   1878\u001b[0m             \u001b[0mself\u001b[0m\u001b[0;34m.\u001b[0m\u001b[0m_loadtk\u001b[0m\u001b[0;34m(\u001b[0m\u001b[0;34m)\u001b[0m\u001b[0;34m\u001b[0m\u001b[0m\n",
            "\u001b[0;31mTclError\u001b[0m: no display name and no $DISPLAY environment variable"
          ]
        },
        {
          "output_type": "execute_result",
          "execution_count": 1,
          "data": {
            "text/plain": "Tree('S', [Tree('NE', [('John', 'NNP')]), ('is', 'VBZ'), ('studying', 'VBG'), ('at', 'IN'), ('stanford', 'NN'), Tree('NE', [('University', 'NNP')]), ('in', 'IN'), Tree('NE', [('California', 'NNP')])])"
          },
          "metadata": {}
        }
      ]
    },
    {
      "metadata": {
        "trusted": true
      },
      "cell_type": "code",
      "source": "!pip install spacy",
      "execution_count": 7,
      "outputs": [
        {
          "output_type": "stream",
          "text": "Collecting spacy\n\u001b[?25l  Downloading https://files.pythonhosted.org/packages/fa/78/e9a6df135bfcacaf0c33af3e73e8f617186b107a2143f95387d31bbb4403/spacy-2.2.3-cp35-cp35m-manylinux1_x86_64.whl (10.3MB)\n\u001b[K     |████████████████████████████████| 10.3MB 31kB/s  eta 0:00:01    |██▎                             | 727kB 3.0MB/s eta 0:00:04     |█████████▎                      | 3.0MB 3.0MB/s eta 0:00:03\n\u001b[?25hCollecting thinc<7.4.0,>=7.3.0\n\u001b[?25l  Downloading https://files.pythonhosted.org/packages/38/5b/b29a1e11908106c3ecd00ce22cf9a9340179928ef763c6da24eb0be9e644/thinc-7.3.1-cp35-cp35m-manylinux1_x86_64.whl (2.2MB)\n\u001b[K     |████████████████████████████████| 2.2MB 6.3MB/s eta 0:00:01\n\u001b[?25hCollecting murmurhash<1.1.0,>=0.28.0\n  Downloading https://files.pythonhosted.org/packages/4a/70/adae6a228f088ccc160696a564382a6e9afe343b9bc1c8e104574122167b/murmurhash-1.0.2-cp35-cp35m-manylinux1_x86_64.whl\nCollecting srsly<1.1.0,>=0.1.0\n\u001b[?25l  Downloading https://files.pythonhosted.org/packages/1d/b3/68eb6f2788e100245f510d0da7fb9633744630acc9f40fef10ebd54d959d/srsly-0.2.0-cp35-cp35m-manylinux1_x86_64.whl (183kB)\n\u001b[K     |████████████████████████████████| 184kB 8.5MB/s eta 0:00:01\n\u001b[?25hRequirement already satisfied: requests<3.0.0,>=2.13.0 in /home/nbuser/anaconda3_420/lib/python3.5/site-packages (from spacy) (2.14.2)\nCollecting cymem<2.1.0,>=2.0.2\n  Downloading https://files.pythonhosted.org/packages/01/5a/0d44fd9ef1765a2e17a566de21ac26c13b02a7a1564106c5c4fd8935c866/cymem-2.0.3-cp35-cp35m-manylinux1_x86_64.whl\nCollecting plac<1.2.0,>=0.9.6\n  Downloading https://files.pythonhosted.org/packages/86/85/40b8f66c2dd8f4fd9f09d59b22720cffecf1331e788b8a0cab5bafb353d1/plac-1.1.3-py2.py3-none-any.whl\nCollecting blis<0.5.0,>=0.4.0\n\u001b[?25l  Downloading https://files.pythonhosted.org/packages/11/61/8ba646a4a06b858c631d459111f13efc8bd367a20e08ad3b8f3cbcd61318/blis-0.4.1-cp35-cp35m-manylinux1_x86_64.whl (3.7MB)\n\u001b[K     |████████████████████████████████| 3.7MB 4.9MB/s eta 0:00:01\n\u001b[?25hCollecting catalogue<1.1.0,>=0.0.7\n  Downloading https://files.pythonhosted.org/packages/4f/d5/46ff975f0d7d055cf95557b944fd5d29d9dfb37a4341038e070f212b24fe/catalogue-0.0.8-py2.py3-none-any.whl\nCollecting preshed<3.1.0,>=3.0.2\n\u001b[?25l  Downloading https://files.pythonhosted.org/packages/45/50/ff39a8b5e5b28819fcf7fd3691c0617373caba0c14c57e4a5384d028e231/preshed-3.0.2-cp35-cp35m-manylinux1_x86_64.whl (117kB)\n\u001b[K     |████████████████████████████████| 122kB 26.4MB/s eta 0:00:01\n\u001b[?25hRequirement already satisfied: setuptools in /home/nbuser/anaconda3_420/lib/python3.5/site-packages (from spacy) (41.6.0)\nCollecting wasabi<1.1.0,>=0.4.0\n  Downloading https://files.pythonhosted.org/packages/3f/35/6dc35bc3b49e160a016e420eb4bdcf1c887db6fd33a463959c06a508c339/wasabi-0.4.0-py3-none-any.whl\nRequirement already satisfied: numpy>=1.15.0 in /home/nbuser/anaconda3_420/lib/python3.5/site-packages (from spacy) (1.17.3)\nRequirement already satisfied: tqdm<5.0.0,>=4.10.0 in /home/nbuser/anaconda3_420/lib/python3.5/site-packages (from thinc<7.4.0,>=7.3.0->spacy) (4.37.0)\nCollecting importlib-metadata>=0.20; python_version < \"3.8\"\n  Using cached https://files.pythonhosted.org/packages/f6/d2/40b3fa882147719744e6aa50ac39cf7a22a913cbcba86a0371176c425a3b/importlib_metadata-0.23-py2.py3-none-any.whl\nCollecting zipp>=0.5\n  Using cached https://files.pythonhosted.org/packages/74/3d/1ee25a26411ba0401b43c6376d2316a71addcc72ef8690b101b4ea56d76a/zipp-0.6.0-py2.py3-none-any.whl\nCollecting more-itertools\n\u001b[?25l  Downloading https://files.pythonhosted.org/packages/45/dc/3241eef99eb45f1def35cf93af35d1cf9ef4c0991792583b8f33ea41b092/more_itertools-7.2.0-py3-none-any.whl (57kB)\n\u001b[K     |████████████████████████████████| 61kB 816kB/s  eta 0:00:01\n\u001b[?25hInstalling collected packages: cymem, plac, srsly, blis, wasabi, murmurhash, preshed, thinc, more-itertools, zipp, importlib-metadata, catalogue, spacy\nSuccessfully installed blis-0.4.1 catalogue-0.0.8 cymem-2.0.3 importlib-metadata-0.23 more-itertools-7.2.0 murmurhash-1.0.2 plac-1.1.3 preshed-3.0.2 spacy-2.2.3 srsly-0.2.0 thinc-7.3.1 wasabi-0.4.0 zipp-0.6.0\n",
          "name": "stdout"
        }
      ]
    },
    {
      "metadata": {
        "trusted": true
      },
      "cell_type": "code",
      "source": "import spacy\nimport en_core_web_sm\nnlp = en_core_web_sm.load()\n\ndoc = nlp(u'Apple is ready to launch new phone worth $10000 in New York time square')\n\nfor ent in doc.ents:\n    print(ent.text,ent.start_char,ent.end_char,ent.label_)",
      "execution_count": 10,
      "outputs": [
        {
          "output_type": "stream",
          "text": "Apple 0 5 ORG\n10000 42 47 MONEY\nNew York 51 59 GPE\n",
          "name": "stdout"
        }
      ]
    },
    {
      "metadata": {
        "trusted": true
      },
      "cell_type": "code",
      "source": "!pip install https://github.com/explosion/spacy-models/releases/download/en_core_web_sm-2.2.0/en_core_web_sm-2.2.0.tar.gz",
      "execution_count": 9,
      "outputs": [
        {
          "output_type": "stream",
          "text": "Collecting https://github.com/explosion/spacy-models/releases/download/en_core_web_sm-2.2.0/en_core_web_sm-2.2.0.tar.gz\n\u001b[?25l  Downloading https://github.com/explosion/spacy-models/releases/download/en_core_web_sm-2.2.0/en_core_web_sm-2.2.0.tar.gz (12.0MB)\n\u001b[K     |████████████████████████████████| 12.0MB 2.9MB/s eta 0:00:01     |█████████████████████████████▌  | 11.1MB 2.9MB/s eta 0:00:01\n\u001b[?25hRequirement already satisfied: spacy>=2.2.0 in /home/nbuser/anaconda3_420/lib/python3.5/site-packages (from en-core-web-sm==2.2.0) (2.2.3)\nRequirement already satisfied: wasabi<1.1.0,>=0.4.0 in /home/nbuser/anaconda3_420/lib/python3.5/site-packages (from spacy>=2.2.0->en-core-web-sm==2.2.0) (0.4.0)\nRequirement already satisfied: murmurhash<1.1.0,>=0.28.0 in /home/nbuser/anaconda3_420/lib/python3.5/site-packages (from spacy>=2.2.0->en-core-web-sm==2.2.0) (1.0.2)\nRequirement already satisfied: preshed<3.1.0,>=3.0.2 in /home/nbuser/anaconda3_420/lib/python3.5/site-packages (from spacy>=2.2.0->en-core-web-sm==2.2.0) (3.0.2)\nRequirement already satisfied: setuptools in /home/nbuser/anaconda3_420/lib/python3.5/site-packages (from spacy>=2.2.0->en-core-web-sm==2.2.0) (41.6.0)\nRequirement already satisfied: numpy>=1.15.0 in /home/nbuser/anaconda3_420/lib/python3.5/site-packages (from spacy>=2.2.0->en-core-web-sm==2.2.0) (1.17.3)\nRequirement already satisfied: blis<0.5.0,>=0.4.0 in /home/nbuser/anaconda3_420/lib/python3.5/site-packages (from spacy>=2.2.0->en-core-web-sm==2.2.0) (0.4.1)\nRequirement already satisfied: plac<1.2.0,>=0.9.6 in /home/nbuser/anaconda3_420/lib/python3.5/site-packages (from spacy>=2.2.0->en-core-web-sm==2.2.0) (1.1.3)\nRequirement already satisfied: srsly<1.1.0,>=0.1.0 in /home/nbuser/anaconda3_420/lib/python3.5/site-packages (from spacy>=2.2.0->en-core-web-sm==2.2.0) (0.2.0)\nRequirement already satisfied: requests<3.0.0,>=2.13.0 in /home/nbuser/anaconda3_420/lib/python3.5/site-packages (from spacy>=2.2.0->en-core-web-sm==2.2.0) (2.14.2)\nRequirement already satisfied: catalogue<1.1.0,>=0.0.7 in /home/nbuser/anaconda3_420/lib/python3.5/site-packages (from spacy>=2.2.0->en-core-web-sm==2.2.0) (0.0.8)\nRequirement already satisfied: thinc<7.4.0,>=7.3.0 in /home/nbuser/anaconda3_420/lib/python3.5/site-packages (from spacy>=2.2.0->en-core-web-sm==2.2.0) (7.3.1)\nRequirement already satisfied: cymem<2.1.0,>=2.0.2 in /home/nbuser/anaconda3_420/lib/python3.5/site-packages (from spacy>=2.2.0->en-core-web-sm==2.2.0) (2.0.3)\nRequirement already satisfied: importlib-metadata>=0.20; python_version < \"3.8\" in /home/nbuser/anaconda3_420/lib/python3.5/site-packages (from catalogue<1.1.0,>=0.0.7->spacy>=2.2.0->en-core-web-sm==2.2.0) (0.23)\nRequirement already satisfied: tqdm<5.0.0,>=4.10.0 in /home/nbuser/anaconda3_420/lib/python3.5/site-packages (from thinc<7.4.0,>=7.3.0->spacy>=2.2.0->en-core-web-sm==2.2.0) (4.37.0)\nRequirement already satisfied: zipp>=0.5 in /home/nbuser/anaconda3_420/lib/python3.5/site-packages (from importlib-metadata>=0.20; python_version < \"3.8\"->catalogue<1.1.0,>=0.0.7->spacy>=2.2.0->en-core-web-sm==2.2.0) (0.6.0)\nRequirement already satisfied: more-itertools in /home/nbuser/anaconda3_420/lib/python3.5/site-packages (from zipp>=0.5->importlib-metadata>=0.20; python_version < \"3.8\"->catalogue<1.1.0,>=0.0.7->spacy>=2.2.0->en-core-web-sm==2.2.0) (7.2.0)\nBuilding wheels for collected packages: en-core-web-sm\n  Building wheel for en-core-web-sm (setup.py) ... \u001b[?25ldone\n\u001b[?25h  Created wheel for en-core-web-sm: filename=en_core_web_sm-2.2.0-cp35-none-any.whl size=12019929 sha256=484c80cd0b71ac0a670173ccfdebbbe1072eca9301ec4d7e2efbfcd306935d34\n  Stored in directory: /home/nbuser/.cache/pip/wheels/48/5c/1c/15f9d02afc8221a668d2172446dd8467b20cdb9aef80a172a4\nSuccessfully built en-core-web-sm\nInstalling collected packages: en-core-web-sm\nSuccessfully installed en-core-web-sm-2.2.0\n",
          "name": "stdout"
        }
      ]
    },
    {
      "metadata": {
        "trusted": true
      },
      "cell_type": "code",
      "source": "",
      "execution_count": null,
      "outputs": []
    }
  ],
  "metadata": {
    "kernelspec": {
      "name": "python3",
      "display_name": "Python 3",
      "language": "python"
    },
    "language_info": {
      "mimetype": "text/x-python",
      "nbconvert_exporter": "python",
      "name": "python",
      "pygments_lexer": "ipython3",
      "version": "3.5.4",
      "file_extension": ".py",
      "codemirror_mode": {
        "version": 3,
        "name": "ipython"
      }
    }
  },
  "nbformat": 4,
  "nbformat_minor": 2
}