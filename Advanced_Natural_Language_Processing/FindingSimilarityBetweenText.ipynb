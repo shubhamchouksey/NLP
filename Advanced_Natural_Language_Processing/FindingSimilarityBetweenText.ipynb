{
  "cells": [
    {
      "metadata": {
        "collapsed": true
      },
      "cell_type": "markdown",
      "source": "# Finding Similarity Between Texts\n\nIn this recipee, we are going to discuss how to find the similarity between two documents or text, there are many similarity metrics like Euclidean, cosine, Jaccard etc. Applications of text similarity can be found in areas like spelling correction and data deduplication.\n\n## Here are few of the similarity metrics:\n**Cosine Similarity**: Calculates the cosine of the angles between 2 vectors.       \n**Jaccard similarity**: The score is calculated using intersection or union of words.       \n**Jaccard index**: (the number in both sets)/(the number in either sets)*100        \n**Levenshtein distance**: Minimal number of insertions, deletions, and replacement required  for transforming string 'a' to string 'b'   \n**Hamming distance**: Number of positions with the same symbol in both strings. But it can be defined only for strings with equal length"
    },
    {
      "metadata": {
        "trusted": true
      },
      "cell_type": "code",
      "source": "documents = (\n'I like NLP',\n'I am exploring NLP',\n'I am a beginner in NLP',\n'I want to learn NLP',\n'I like advanced NLP')\n",
      "execution_count": 1,
      "outputs": []
    },
    {
      "metadata": {
        "trusted": true
      },
      "cell_type": "code",
      "source": "import pandas as pd\nfrom sklearn.feature_extraction.text import TfidfVectorizer\nfrom sklearn.metrics.pairwise import cosine_similarity\n\ntf_idf_vectorizer = TfidfVectorizer()\ntfidf_matrix = tf_idf_vectorizer.fit_transform(documents)\nprint(tfidf_matrix)\nprint(tf_idf_vectorizer.vocabulary_)\nvoc_sorted = sorted(tf_idf_vectorizer.vocabulary_, key = tf_idf_vectorizer.vocabulary_.__getitem__)\ntfidf = pd.DataFrame(tf_idf_vectorizer.idf_,index=tf_idf_vectorizer.vocabulary_,columns=['tfidf_weights'])\ntfidf\n\ncosine_similarity(tfidf_matrix[0:1],tfidf_matrix)",
      "execution_count": 2,
      "outputs": [
        {
          "output_type": "stream",
          "text": "  (0, 6)\t0.8610369959439764\n  (0, 7)\t0.5085423203783267\n  (1, 7)\t0.3477147117091919\n  (1, 1)\t0.5887321837696324\n  (1, 3)\t0.7297183669435993\n  (2, 7)\t0.2808823162882302\n  (2, 1)\t0.47557510189256375\n  (2, 2)\t0.5894630806320427\n  (2, 4)\t0.5894630806320427\n  (3, 7)\t0.26525552965220073\n  (3, 9)\t0.5566685141652766\n  (3, 8)\t0.5566685141652766\n  (3, 5)\t0.5566685141652766\n  (4, 6)\t0.5887321837696324\n  (4, 7)\t0.3477147117091919\n  (4, 0)\t0.7297183669435993\n{'exploring': 3, 'in': 4, 'like': 6, 'beginner': 2, 'learn': 5, 'want': 9, 'to': 8, 'nlp': 7, 'am': 1, 'advanced': 0}\n",
          "name": "stdout"
        },
        {
          "output_type": "execute_result",
          "execution_count": 2,
          "data": {
            "text/plain": "array([[1.        , 0.17682765, 0.14284054, 0.13489366, 0.68374784]])"
          },
          "metadata": {}
        }
      ]
    },
    {
      "metadata": {},
      "cell_type": "markdown",
      "source": "let us take,    \nvec1: tfidf_matrix[0] and vec2 = tfidf_matrix[0]  \n\n$$\\vec{vec1} = 0.861017*u6 + 0.50854*u7$$\n$$\\vec{vec2} = 0.347714*u7 + 0.58873*u1 + 0.73*u3$$\n$$cos(\\vec{vec1},\\vec{vec2}) = \\vec{vec1}\\cdot\\vec{vec2}$$\n$$                           = 0.861017*0 + 0.50854*0.347714 + 0.58873*0 + 0.73*0$$\n$$ = 0.17682765$$\n"
    },
    {
      "metadata": {},
      "cell_type": "markdown",
      "source": "### Phonetic Matching\n\nThe next vesion of similarity checking is phonetic matching, which roughly matches the two words or sentences and also creates an alphanumeric string as encoded vesion of the text or word. It is very useful for searching large text corpora, correcting spellins errors, and matcing relavant names. **Soundex** and **Metaphone** are two main phonetic algorithms used for this purpose. The simplest way to do this is by using Fuzzy library.  "
    },
    {
      "metadata": {
        "trusted": true
      },
      "cell_type": "code",
      "source": "!pip install Fuzzy\nimport Fuzzy",
      "execution_count": 4,
      "outputs": [
        {
          "output_type": "stream",
          "text": "Requirement already satisfied: Fuzzy in /home/nbuser/anaconda3_501/lib/python3.6/site-packages (1.2.2)\r\n",
          "name": "stdout"
        }
      ]
    },
    {
      "metadata": {
        "trusted": true
      },
      "cell_type": "code",
      "source": "import fuzzy\nsoundex = fuzzy.Soundex(4)\nsoundex('natural')",
      "execution_count": 21,
      "outputs": [
        {
          "output_type": "execute_result",
          "execution_count": 21,
          "data": {
            "text/plain": "''"
          },
          "metadata": {}
        }
      ]
    },
    {
      "metadata": {
        "trusted": true
      },
      "cell_type": "code",
      "source": "",
      "execution_count": null,
      "outputs": []
    }
  ],
  "metadata": {
    "kernelspec": {
      "name": "python36",
      "display_name": "Python 3.6",
      "language": "python"
    },
    "language_info": {
      "mimetype": "text/x-python",
      "nbconvert_exporter": "python",
      "name": "python",
      "pygments_lexer": "ipython3",
      "version": "3.6.6",
      "file_extension": ".py",
      "codemirror_mode": {
        "version": 3,
        "name": "ipython"
      }
    }
  },
  "nbformat": 4,
  "nbformat_minor": 2
}