{
  "cells": [
    {
      "metadata": {
        "trusted": true
      },
      "cell_type": "code",
      "source": "nltk.download('stopwords')",
      "execution_count": 5,
      "outputs": [
        {
          "output_type": "stream",
          "text": "[nltk_data] Downloading package stopwords to /home/nbuser/nltk_data...\n[nltk_data]   Unzipping corpora/stopwords.zip.\n",
          "name": "stdout"
        },
        {
          "output_type": "execute_result",
          "execution_count": 5,
          "data": {
            "text/plain": "True"
          },
          "metadata": {}
        }
      ]
    },
    {
      "metadata": {
        "trusted": true
      },
      "cell_type": "code",
      "source": "import nltk\n\nfrom nltk.corpus import stopwords\nfrom nltk.tokenize import word_tokenize, sent_tokenize\n\ntext = 'I love NLP and I will learn NLP in 2 months'\nstop_words = set(stopwords.words('english'))\n\n# Tokenize the text\ntokens = sent_tokenize(text)\n#print(tokens)\n\nfor i in tokens:\n    print(i)\n    words = word_tokenize(i)\n    words = [w for w in words if not w in stop_words]\n    print(words)\n    # pos tagger\n    tags = nltk.pos_tag(words)\n    \ntags\n",
      "execution_count": 15,
      "outputs": [
        {
          "output_type": "stream",
          "text": "I love NLP and I will learn NLP in 2 months\n['I', 'love', 'NLP', 'I', 'learn', 'NLP', '2', 'months']\n",
          "name": "stdout"
        },
        {
          "output_type": "execute_result",
          "execution_count": 15,
          "data": {
            "text/plain": "[('I', 'PRP'),\n ('love', 'VBP'),\n ('NLP', 'NNP'),\n ('I', 'PRP'),\n ('learn', 'VBP'),\n ('NLP', 'RB'),\n ('2', 'CD'),\n ('months', 'NNS')]"
          },
          "metadata": {}
        }
      ]
    },
    {
      "metadata": {},
      "cell_type": "markdown",
      "source": "***PRP***: personal pronoun I, he, she    \n***VBP***: verb, sing present, non-3d take     \n***NNP***: proper noun, singular 'Harrison'      \n***RB***: adverb very,silently      \n***CD***: cardinal Digit     \n***NNS***: noun phlural 'desks'     \n"
    },
    {
      "metadata": {
        "trusted": true
      },
      "cell_type": "code",
      "source": "",
      "execution_count": null,
      "outputs": []
    }
  ],
  "metadata": {
    "kernelspec": {
      "name": "python36",
      "display_name": "Python 3.6",
      "language": "python"
    },
    "language_info": {
      "mimetype": "text/x-python",
      "nbconvert_exporter": "python",
      "name": "python",
      "pygments_lexer": "ipython3",
      "version": "3.6.6",
      "file_extension": ".py",
      "codemirror_mode": {
        "version": 3,
        "name": "ipython"
      }
    }
  },
  "nbformat": 4,
  "nbformat_minor": 2
}