{
  "cells": [
    {
      "metadata": {
        "trusted": true
      },
      "cell_type": "code",
      "source": "text = ['The quick brown fox jumped over the lazy dog.']",
      "execution_count": 1,
      "outputs": []
    },
    {
      "metadata": {
        "trusted": true
      },
      "cell_type": "code",
      "source": "from sklearn.feature_extraction.text import HashingVectorizer\n#transform \nvectorizer = HashingVectorizer(n_features = 10)\n\n#create the hashing vector\nvector = vectorizer.transform(text)\n\n#summarize the vector\nprint(vector.shape)\nprint(vector.toarray())",
      "execution_count": 2,
      "outputs": [
        {
          "output_type": "stream",
          "text": "(1, 10)\n[[ 0.          0.57735027  0.          0.          0.          0.\n   0.         -0.57735027 -0.57735027  0.        ]]\n",
          "name": "stdout"
        }
      ]
    },
    {
      "metadata": {
        "trusted": true
      },
      "cell_type": "code",
      "source": "",
      "execution_count": null,
      "outputs": []
    },
    {
      "metadata": {
        "trusted": true
      },
      "cell_type": "code",
      "source": "",
      "execution_count": null,
      "outputs": []
    }
  ],
  "metadata": {
    "kernelspec": {
      "name": "python36",
      "display_name": "Python 3.6",
      "language": "python"
    },
    "language_info": {
      "mimetype": "text/x-python",
      "nbconvert_exporter": "python",
      "name": "python",
      "pygments_lexer": "ipython3",
      "version": "3.6.6",
      "file_extension": ".py",
      "codemirror_mode": {
        "version": 3,
        "name": "ipython"
      }
    }
  },
  "nbformat": 4,
  "nbformat_minor": 2
}