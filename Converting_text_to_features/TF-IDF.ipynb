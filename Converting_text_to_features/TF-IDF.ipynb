{
  "cells": [
    {
      "metadata": {},
      "cell_type": "raw",
      "source": "Term Frequency(TF): -> Term frequency is simply the ratio of the count of a word present in a sentence, to the length of the sentence.\n                    -> TF is basically capturing the importance of the word irrespective of the length of the document.\n                    -> ex: a word with the frequency of 3 with the length of sentence being 10 is not the same as when the word length of                            sentence being 100 words. It should get more importance in the first scenario; that is what TF does.\n  \nInverse Document Frequency(IDF): -> IDF of each word is the log of the ratio of the total number of rows to the number of rows in a \n                                    particular document in which that word is present.\n                                 -> IDF will measure the rareness of a term. word like 'a' and 'the' show up in all the documents of                                           corpus, but the rare words is not in all the documents.\n                                \n                        TF-IDF is the simplest product of TF and IDF so that both of the drawbacks are addressed, which makes predictions                         and information retrieval relevant."
    },
    {
      "metadata": {
        "trusted": true
      },
      "cell_type": "code",
      "source": "#by using tfidf transformer\n\nimport pandas as pd\n\nfrom sklearn.feature_extraction.text import TfidfTransformer\nfrom sklearn.feature_extraction.text import CountVectorizer\n\ndocs = ['the cat see the mouse',\n      \"the house has a tiny little mouse\",\n       'the mouse ran away from the house',\n        'the cat finally ate the mouse',\n       'the end of the mouse story'\n       ]\ncv = CountVectorizer()\nword_count_vector = cv.fit_transform(docs)\n\nprint(word_count_vector)\n\ntfidf_transformer = TfidfTransformer(smooth_idf=True,use_idf=True)\ntfidf_transformer.fit(word_count_vector)\n\ndf_idf = pd.DataFrame(tfidf_transformer.idf_,index=cv.get_feature_names(),columns=['tf_idf_weights'])\n\ndf_idf\n\n",
      "execution_count": 1,
      "outputs": [
        {
          "output_type": "stream",
          "text": "  (0, 9)\t1\n  (0, 12)\t1\n  (0, 2)\t1\n  (0, 14)\t2\n  (1, 8)\t1\n  (1, 15)\t1\n  (1, 6)\t1\n  (1, 7)\t1\n  (1, 9)\t1\n  (1, 14)\t1\n  (2, 5)\t1\n  (2, 1)\t1\n  (2, 11)\t1\n  (2, 7)\t1\n  (2, 9)\t1\n  (2, 14)\t2\n  (3, 0)\t1\n  (3, 4)\t1\n  (3, 9)\t1\n  (3, 2)\t1\n  (3, 14)\t2\n  (4, 13)\t1\n  (4, 10)\t1\n  (4, 3)\t1\n  (4, 9)\t1\n  (4, 14)\t2\n",
          "name": "stdout"
        },
        {
          "output_type": "execute_result",
          "execution_count": 1,
          "data": {
            "text/html": "<div>\n<style scoped>\n    .dataframe tbody tr th:only-of-type {\n        vertical-align: middle;\n    }\n\n    .dataframe tbody tr th {\n        vertical-align: top;\n    }\n\n    .dataframe thead th {\n        text-align: right;\n    }\n</style>\n<table border=\"1\" class=\"dataframe\">\n  <thead>\n    <tr style=\"text-align: right;\">\n      <th></th>\n      <th>tf_idf_weights</th>\n    </tr>\n  </thead>\n  <tbody>\n    <tr>\n      <th>ate</th>\n      <td>2.098612</td>\n    </tr>\n    <tr>\n      <th>away</th>\n      <td>2.098612</td>\n    </tr>\n    <tr>\n      <th>cat</th>\n      <td>1.693147</td>\n    </tr>\n    <tr>\n      <th>end</th>\n      <td>2.098612</td>\n    </tr>\n    <tr>\n      <th>finally</th>\n      <td>2.098612</td>\n    </tr>\n    <tr>\n      <th>from</th>\n      <td>2.098612</td>\n    </tr>\n    <tr>\n      <th>has</th>\n      <td>2.098612</td>\n    </tr>\n    <tr>\n      <th>house</th>\n      <td>1.693147</td>\n    </tr>\n    <tr>\n      <th>little</th>\n      <td>2.098612</td>\n    </tr>\n    <tr>\n      <th>mouse</th>\n      <td>1.000000</td>\n    </tr>\n    <tr>\n      <th>of</th>\n      <td>2.098612</td>\n    </tr>\n    <tr>\n      <th>ran</th>\n      <td>2.098612</td>\n    </tr>\n    <tr>\n      <th>see</th>\n      <td>2.098612</td>\n    </tr>\n    <tr>\n      <th>story</th>\n      <td>2.098612</td>\n    </tr>\n    <tr>\n      <th>the</th>\n      <td>1.000000</td>\n    </tr>\n    <tr>\n      <th>tiny</th>\n      <td>2.098612</td>\n    </tr>\n  </tbody>\n</table>\n</div>",
            "text/plain": "         tf_idf_weights\nate            2.098612\naway           2.098612\ncat            1.693147\nend            2.098612\nfinally        2.098612\nfrom           2.098612\nhas            2.098612\nhouse          1.693147\nlittle         2.098612\nmouse          1.000000\nof             2.098612\nran            2.098612\nsee            2.098612\nstory          2.098612\nthe            1.000000\ntiny           2.098612"
          },
          "metadata": {}
        }
      ]
    },
    {
      "metadata": {
        "trusted": true
      },
      "cell_type": "code",
      "source": "#without using tf-idftransform or tf-idfvectorizer\n\ndf = pd.DataFrame({'docId': [1,2,3,4,5], \n               'docs': ['the cat see the mouse',\n                   \"the house has a tiny little mouse\",\n           'the mouse ran away from the house',\n        'the cat finally ate the mouse',\n       'the end of the mouse story'\n       ]})\n\nprint(df)",
      "execution_count": 6,
      "outputs": [
        {
          "output_type": "stream",
          "text": "   docId                               docs\n0      1              the cat see the mouse\n1      2  the house has a tiny little mouse\n2      3  the mouse ran away from the house\n3      4      the cat finally ate the mouse\n4      5         the end of the mouse story\n",
          "name": "stdout"
        }
      ]
    },
    {
      "metadata": {
        "trusted": true
      },
      "cell_type": "code",
      "source": "tf1 = df.tokens.apply(lambda x: pd.Series(x).value_counts())\nprint(tf1)",
      "execution_count": 7,
      "outputs": [
        {
          "output_type": "error",
          "ename": "AttributeError",
          "evalue": "'DataFrame' object has no attribute 'tokens'",
          "traceback": [
            "\u001b[0;31m---------------------------------------------------------------------------\u001b[0m",
            "\u001b[0;31mAttributeError\u001b[0m                            Traceback (most recent call last)",
            "\u001b[0;32m<ipython-input-7-3fc603045951>\u001b[0m in \u001b[0;36m<module>\u001b[0;34m\u001b[0m\n\u001b[0;32m----> 1\u001b[0;31m \u001b[0mtf1\u001b[0m \u001b[0;34m=\u001b[0m \u001b[0mdf\u001b[0m\u001b[0;34m.\u001b[0m\u001b[0mtokens\u001b[0m\u001b[0;34m.\u001b[0m\u001b[0mapply\u001b[0m\u001b[0;34m(\u001b[0m\u001b[0;32mlambda\u001b[0m \u001b[0mx\u001b[0m\u001b[0;34m:\u001b[0m \u001b[0mpd\u001b[0m\u001b[0;34m.\u001b[0m\u001b[0mSeries\u001b[0m\u001b[0;34m(\u001b[0m\u001b[0mx\u001b[0m\u001b[0;34m)\u001b[0m\u001b[0;34m.\u001b[0m\u001b[0mvalue_counts\u001b[0m\u001b[0;34m(\u001b[0m\u001b[0;34m)\u001b[0m\u001b[0;34m)\u001b[0m\u001b[0;34m\u001b[0m\u001b[0m\n\u001b[0m\u001b[1;32m      2\u001b[0m \u001b[0mprint\u001b[0m\u001b[0;34m(\u001b[0m\u001b[0mtf1\u001b[0m\u001b[0;34m)\u001b[0m\u001b[0;34m\u001b[0m\u001b[0m\n",
            "\u001b[0;32m~/anaconda3_501/lib/python3.6/site-packages/pandas/core/generic.py\u001b[0m in \u001b[0;36m__getattr__\u001b[0;34m(self, name)\u001b[0m\n\u001b[1;32m   4374\u001b[0m             \u001b[0;32mif\u001b[0m \u001b[0mself\u001b[0m\u001b[0;34m.\u001b[0m\u001b[0m_info_axis\u001b[0m\u001b[0;34m.\u001b[0m\u001b[0m_can_hold_identifiers_and_holds_name\u001b[0m\u001b[0;34m(\u001b[0m\u001b[0mname\u001b[0m\u001b[0;34m)\u001b[0m\u001b[0;34m:\u001b[0m\u001b[0;34m\u001b[0m\u001b[0m\n\u001b[1;32m   4375\u001b[0m                 \u001b[0;32mreturn\u001b[0m \u001b[0mself\u001b[0m\u001b[0;34m[\u001b[0m\u001b[0mname\u001b[0m\u001b[0;34m]\u001b[0m\u001b[0;34m\u001b[0m\u001b[0m\n\u001b[0;32m-> 4376\u001b[0;31m             \u001b[0;32mreturn\u001b[0m \u001b[0mobject\u001b[0m\u001b[0;34m.\u001b[0m\u001b[0m__getattribute__\u001b[0m\u001b[0;34m(\u001b[0m\u001b[0mself\u001b[0m\u001b[0;34m,\u001b[0m \u001b[0mname\u001b[0m\u001b[0;34m)\u001b[0m\u001b[0;34m\u001b[0m\u001b[0m\n\u001b[0m\u001b[1;32m   4377\u001b[0m \u001b[0;34m\u001b[0m\u001b[0m\n\u001b[1;32m   4378\u001b[0m     \u001b[0;32mdef\u001b[0m \u001b[0m__setattr__\u001b[0m\u001b[0;34m(\u001b[0m\u001b[0mself\u001b[0m\u001b[0;34m,\u001b[0m \u001b[0mname\u001b[0m\u001b[0;34m,\u001b[0m \u001b[0mvalue\u001b[0m\u001b[0;34m)\u001b[0m\u001b[0;34m:\u001b[0m\u001b[0;34m\u001b[0m\u001b[0m\n",
            "\u001b[0;31mAttributeError\u001b[0m: 'DataFrame' object has no attribute 'tokens'"
          ]
        }
      ]
    },
    {
      "metadata": {
        "trusted": true
      },
      "cell_type": "code",
      "source": "df['tokens'] = [x.lower().split() for x in df.docs.values] \n#print(df)\n#print(df.tokens.apply(lambda x: pd.Series(x)))\ntf = df.tokens.apply(lambda x: pd.Series(x).value_counts()).fillna(0)   \ntf",
      "execution_count": 12,
      "outputs": [
        {
          "output_type": "execute_result",
          "execution_count": 12,
          "data": {
            "text/html": "<div>\n<style scoped>\n    .dataframe tbody tr th:only-of-type {\n        vertical-align: middle;\n    }\n\n    .dataframe tbody tr th {\n        vertical-align: top;\n    }\n\n    .dataframe thead th {\n        text-align: right;\n    }\n</style>\n<table border=\"1\" class=\"dataframe\">\n  <thead>\n    <tr style=\"text-align: right;\">\n      <th></th>\n      <th>the</th>\n      <th>mouse</th>\n      <th>see</th>\n      <th>cat</th>\n      <th>house</th>\n      <th>tiny</th>\n      <th>has</th>\n      <th>a</th>\n      <th>little</th>\n      <th>away</th>\n      <th>ran</th>\n      <th>from</th>\n      <th>finally</th>\n      <th>ate</th>\n      <th>end</th>\n      <th>story</th>\n      <th>of</th>\n    </tr>\n  </thead>\n  <tbody>\n    <tr>\n      <th>0</th>\n      <td>2.0</td>\n      <td>1.0</td>\n      <td>1.0</td>\n      <td>1.0</td>\n      <td>0.0</td>\n      <td>0.0</td>\n      <td>0.0</td>\n      <td>0.0</td>\n      <td>0.0</td>\n      <td>0.0</td>\n      <td>0.0</td>\n      <td>0.0</td>\n      <td>0.0</td>\n      <td>0.0</td>\n      <td>0.0</td>\n      <td>0.0</td>\n      <td>0.0</td>\n    </tr>\n    <tr>\n      <th>1</th>\n      <td>1.0</td>\n      <td>1.0</td>\n      <td>0.0</td>\n      <td>0.0</td>\n      <td>1.0</td>\n      <td>1.0</td>\n      <td>1.0</td>\n      <td>1.0</td>\n      <td>1.0</td>\n      <td>0.0</td>\n      <td>0.0</td>\n      <td>0.0</td>\n      <td>0.0</td>\n      <td>0.0</td>\n      <td>0.0</td>\n      <td>0.0</td>\n      <td>0.0</td>\n    </tr>\n    <tr>\n      <th>2</th>\n      <td>2.0</td>\n      <td>1.0</td>\n      <td>0.0</td>\n      <td>0.0</td>\n      <td>1.0</td>\n      <td>0.0</td>\n      <td>0.0</td>\n      <td>0.0</td>\n      <td>0.0</td>\n      <td>1.0</td>\n      <td>1.0</td>\n      <td>1.0</td>\n      <td>0.0</td>\n      <td>0.0</td>\n      <td>0.0</td>\n      <td>0.0</td>\n      <td>0.0</td>\n    </tr>\n    <tr>\n      <th>3</th>\n      <td>2.0</td>\n      <td>1.0</td>\n      <td>0.0</td>\n      <td>1.0</td>\n      <td>0.0</td>\n      <td>0.0</td>\n      <td>0.0</td>\n      <td>0.0</td>\n      <td>0.0</td>\n      <td>0.0</td>\n      <td>0.0</td>\n      <td>0.0</td>\n      <td>1.0</td>\n      <td>1.0</td>\n      <td>0.0</td>\n      <td>0.0</td>\n      <td>0.0</td>\n    </tr>\n    <tr>\n      <th>4</th>\n      <td>2.0</td>\n      <td>1.0</td>\n      <td>0.0</td>\n      <td>0.0</td>\n      <td>0.0</td>\n      <td>0.0</td>\n      <td>0.0</td>\n      <td>0.0</td>\n      <td>0.0</td>\n      <td>0.0</td>\n      <td>0.0</td>\n      <td>0.0</td>\n      <td>0.0</td>\n      <td>0.0</td>\n      <td>1.0</td>\n      <td>1.0</td>\n      <td>1.0</td>\n    </tr>\n  </tbody>\n</table>\n</div>",
            "text/plain": "   the  mouse  see  cat  house  tiny  has    a  little  away  ran  from  \\\n0  2.0    1.0  1.0  1.0    0.0   0.0  0.0  0.0     0.0   0.0  0.0   0.0   \n1  1.0    1.0  0.0  0.0    1.0   1.0  1.0  1.0     1.0   0.0  0.0   0.0   \n2  2.0    1.0  0.0  0.0    1.0   0.0  0.0  0.0     0.0   1.0  1.0   1.0   \n3  2.0    1.0  0.0  1.0    0.0   0.0  0.0  0.0     0.0   0.0  0.0   0.0   \n4  2.0    1.0  0.0  0.0    0.0   0.0  0.0  0.0     0.0   0.0  0.0   0.0   \n\n   finally  ate  end  story   of  \n0      0.0  0.0  0.0    0.0  0.0  \n1      0.0  0.0  0.0    0.0  0.0  \n2      0.0  0.0  0.0    0.0  0.0  \n3      1.0  1.0  0.0    0.0  0.0  \n4      0.0  0.0  1.0    1.0  1.0  "
          },
          "metadata": {}
        }
      ]
    },
    {
      "metadata": {
        "trusted": true
      },
      "cell_type": "code",
      "source": "import numpy as np\nidf = pd.Series(token for token in tf.columns)\nprint(idf)\nidf = pd.Series([np.log((float(df.shape[0])+1)/(len([x for x in df.tokens.values if token in x])+1))+1 for token in tf.columns])\nidf.index = tf.columns\nprint(idf)\n\ntfidf = tf.copy()\nfor col in tfidf.columns:\n    #print(col)\n    #print(tfidf[col],idf[col])\n    tfidf[col] = tfidf[col]*idf[col]\n    #print(tfidf[col])\n        \ntfidf",
      "execution_count": 13,
      "outputs": [
        {
          "output_type": "stream",
          "text": "0         the\n1       mouse\n2         see\n3         cat\n4       house\n5        tiny\n6         has\n7           a\n8      little\n9        away\n10        ran\n11       from\n12    finally\n13        ate\n14        end\n15      story\n16         of\ndtype: object\nthe        1.000000\nmouse      1.000000\nsee        2.098612\ncat        1.693147\nhouse      1.693147\ntiny       2.098612\nhas        2.098612\na          2.098612\nlittle     2.098612\naway       2.098612\nran        2.098612\nfrom       2.098612\nfinally    2.098612\nate        2.098612\nend        2.098612\nstory      2.098612\nof         2.098612\ndtype: float64\n",
          "name": "stdout"
        },
        {
          "output_type": "execute_result",
          "execution_count": 13,
          "data": {
            "text/html": "<div>\n<style scoped>\n    .dataframe tbody tr th:only-of-type {\n        vertical-align: middle;\n    }\n\n    .dataframe tbody tr th {\n        vertical-align: top;\n    }\n\n    .dataframe thead th {\n        text-align: right;\n    }\n</style>\n<table border=\"1\" class=\"dataframe\">\n  <thead>\n    <tr style=\"text-align: right;\">\n      <th></th>\n      <th>the</th>\n      <th>mouse</th>\n      <th>see</th>\n      <th>cat</th>\n      <th>house</th>\n      <th>tiny</th>\n      <th>has</th>\n      <th>a</th>\n      <th>little</th>\n      <th>away</th>\n      <th>ran</th>\n      <th>from</th>\n      <th>finally</th>\n      <th>ate</th>\n      <th>end</th>\n      <th>story</th>\n      <th>of</th>\n    </tr>\n  </thead>\n  <tbody>\n    <tr>\n      <th>0</th>\n      <td>2.0</td>\n      <td>1.0</td>\n      <td>2.098612</td>\n      <td>1.693147</td>\n      <td>0.000000</td>\n      <td>0.000000</td>\n      <td>0.000000</td>\n      <td>0.000000</td>\n      <td>0.000000</td>\n      <td>0.000000</td>\n      <td>0.000000</td>\n      <td>0.000000</td>\n      <td>0.000000</td>\n      <td>0.000000</td>\n      <td>0.000000</td>\n      <td>0.000000</td>\n      <td>0.000000</td>\n    </tr>\n    <tr>\n      <th>1</th>\n      <td>1.0</td>\n      <td>1.0</td>\n      <td>0.000000</td>\n      <td>0.000000</td>\n      <td>1.693147</td>\n      <td>2.098612</td>\n      <td>2.098612</td>\n      <td>2.098612</td>\n      <td>2.098612</td>\n      <td>0.000000</td>\n      <td>0.000000</td>\n      <td>0.000000</td>\n      <td>0.000000</td>\n      <td>0.000000</td>\n      <td>0.000000</td>\n      <td>0.000000</td>\n      <td>0.000000</td>\n    </tr>\n    <tr>\n      <th>2</th>\n      <td>2.0</td>\n      <td>1.0</td>\n      <td>0.000000</td>\n      <td>0.000000</td>\n      <td>1.693147</td>\n      <td>0.000000</td>\n      <td>0.000000</td>\n      <td>0.000000</td>\n      <td>0.000000</td>\n      <td>2.098612</td>\n      <td>2.098612</td>\n      <td>2.098612</td>\n      <td>0.000000</td>\n      <td>0.000000</td>\n      <td>0.000000</td>\n      <td>0.000000</td>\n      <td>0.000000</td>\n    </tr>\n    <tr>\n      <th>3</th>\n      <td>2.0</td>\n      <td>1.0</td>\n      <td>0.000000</td>\n      <td>1.693147</td>\n      <td>0.000000</td>\n      <td>0.000000</td>\n      <td>0.000000</td>\n      <td>0.000000</td>\n      <td>0.000000</td>\n      <td>0.000000</td>\n      <td>0.000000</td>\n      <td>0.000000</td>\n      <td>2.098612</td>\n      <td>2.098612</td>\n      <td>0.000000</td>\n      <td>0.000000</td>\n      <td>0.000000</td>\n    </tr>\n    <tr>\n      <th>4</th>\n      <td>2.0</td>\n      <td>1.0</td>\n      <td>0.000000</td>\n      <td>0.000000</td>\n      <td>0.000000</td>\n      <td>0.000000</td>\n      <td>0.000000</td>\n      <td>0.000000</td>\n      <td>0.000000</td>\n      <td>0.000000</td>\n      <td>0.000000</td>\n      <td>0.000000</td>\n      <td>0.000000</td>\n      <td>0.000000</td>\n      <td>2.098612</td>\n      <td>2.098612</td>\n      <td>2.098612</td>\n    </tr>\n  </tbody>\n</table>\n</div>",
            "text/plain": "   the  mouse       see       cat     house      tiny       has         a  \\\n0  2.0    1.0  2.098612  1.693147  0.000000  0.000000  0.000000  0.000000   \n1  1.0    1.0  0.000000  0.000000  1.693147  2.098612  2.098612  2.098612   \n2  2.0    1.0  0.000000  0.000000  1.693147  0.000000  0.000000  0.000000   \n3  2.0    1.0  0.000000  1.693147  0.000000  0.000000  0.000000  0.000000   \n4  2.0    1.0  0.000000  0.000000  0.000000  0.000000  0.000000  0.000000   \n\n     little      away       ran      from   finally       ate       end  \\\n0  0.000000  0.000000  0.000000  0.000000  0.000000  0.000000  0.000000   \n1  2.098612  0.000000  0.000000  0.000000  0.000000  0.000000  0.000000   \n2  0.000000  2.098612  2.098612  2.098612  0.000000  0.000000  0.000000   \n3  0.000000  0.000000  0.000000  0.000000  2.098612  2.098612  0.000000   \n4  0.000000  0.000000  0.000000  0.000000  0.000000  0.000000  2.098612   \n\n      story        of  \n0  0.000000  0.000000  \n1  0.000000  0.000000  \n2  0.000000  0.000000  \n3  0.000000  0.000000  \n4  2.098612  2.098612  "
          },
          "metadata": {}
        }
      ]
    },
    {
      "metadata": {
        "trusted": true
      },
      "cell_type": "code",
      "source": "#by using tf_idf vectorizer\n\nimport pandas as pd\n\nfrom sklearn.feature_extraction.text import TfidfVectorizer\n\ndocs = ['the house has a tiny little mouse',\n       'the cat see the mouse',\n       'the mouse ran away from the house',\n        'the cat finally ate the mouse',\n       'the end of the mouse story'\n       ]\n\nvectorizer = TfidfVectorizer(smooth_idf=True,use_idf=True)\n\nvectorizer.fit(docs)\n\nprint(vectorizer.vocabulary_)\nprint(vectorizer.idf_)\nvoc_sorted = sorted(vectorizer.vocabulary_,key=vectorizer.vocabulary_.__getitem__)\nprint(voc_sorted)\n\ndf_idf = pd.DataFrame(vectorizer.idf_,index=voc_sorted,columns=['tf_idf_weights'])\nprint(df_idf)\ndf_idf.sort_values(by=['tf_idf_weights'])",
      "execution_count": 18,
      "outputs": [
        {
          "output_type": "stream",
          "text": "{'the': 14, 'house': 7, 'has': 6, 'tiny': 15, 'little': 8, 'mouse': 9, 'cat': 2, 'see': 12, 'ran': 11, 'away': 1, 'from': 5, 'finally': 4, 'ate': 0, 'end': 3, 'of': 10, 'story': 13}\n[2.09861229 2.09861229 1.69314718 2.09861229 2.09861229 2.09861229\n 2.09861229 1.69314718 2.09861229 1.         2.09861229 2.09861229\n 2.09861229 2.09861229 1.         2.09861229]\n['ate', 'away', 'cat', 'end', 'finally', 'from', 'has', 'house', 'little', 'mouse', 'of', 'ran', 'see', 'story', 'the', 'tiny']\n         tf_idf_weights\nate            2.098612\naway           2.098612\ncat            1.693147\nend            2.098612\nfinally        2.098612\nfrom           2.098612\nhas            2.098612\nhouse          1.693147\nlittle         2.098612\nmouse          1.000000\nof             2.098612\nran            2.098612\nsee            2.098612\nstory          2.098612\nthe            1.000000\ntiny           2.098612\n",
          "name": "stdout"
        },
        {
          "output_type": "execute_result",
          "execution_count": 18,
          "data": {
            "text/html": "<div>\n<style scoped>\n    .dataframe tbody tr th:only-of-type {\n        vertical-align: middle;\n    }\n\n    .dataframe tbody tr th {\n        vertical-align: top;\n    }\n\n    .dataframe thead th {\n        text-align: right;\n    }\n</style>\n<table border=\"1\" class=\"dataframe\">\n  <thead>\n    <tr style=\"text-align: right;\">\n      <th></th>\n      <th>tf_idf_weights</th>\n    </tr>\n  </thead>\n  <tbody>\n    <tr>\n      <th>mouse</th>\n      <td>1.000000</td>\n    </tr>\n    <tr>\n      <th>the</th>\n      <td>1.000000</td>\n    </tr>\n    <tr>\n      <th>cat</th>\n      <td>1.693147</td>\n    </tr>\n    <tr>\n      <th>house</th>\n      <td>1.693147</td>\n    </tr>\n    <tr>\n      <th>ate</th>\n      <td>2.098612</td>\n    </tr>\n    <tr>\n      <th>away</th>\n      <td>2.098612</td>\n    </tr>\n    <tr>\n      <th>end</th>\n      <td>2.098612</td>\n    </tr>\n    <tr>\n      <th>finally</th>\n      <td>2.098612</td>\n    </tr>\n    <tr>\n      <th>from</th>\n      <td>2.098612</td>\n    </tr>\n    <tr>\n      <th>has</th>\n      <td>2.098612</td>\n    </tr>\n    <tr>\n      <th>little</th>\n      <td>2.098612</td>\n    </tr>\n    <tr>\n      <th>of</th>\n      <td>2.098612</td>\n    </tr>\n    <tr>\n      <th>ran</th>\n      <td>2.098612</td>\n    </tr>\n    <tr>\n      <th>see</th>\n      <td>2.098612</td>\n    </tr>\n    <tr>\n      <th>story</th>\n      <td>2.098612</td>\n    </tr>\n    <tr>\n      <th>tiny</th>\n      <td>2.098612</td>\n    </tr>\n  </tbody>\n</table>\n</div>",
            "text/plain": "         tf_idf_weights\nmouse          1.000000\nthe            1.000000\ncat            1.693147\nhouse          1.693147\nate            2.098612\naway           2.098612\nend            2.098612\nfinally        2.098612\nfrom           2.098612\nhas            2.098612\nlittle         2.098612\nof             2.098612\nran            2.098612\nsee            2.098612\nstory          2.098612\ntiny           2.098612"
          },
          "metadata": {}
        }
      ]
    },
    {
      "metadata": {
        "trusted": true
      },
      "cell_type": "code",
      "source": "",
      "execution_count": null,
      "outputs": []
    }
  ],
  "metadata": {
    "kernelspec": {
      "name": "python36",
      "display_name": "Python 3.6",
      "language": "python"
    },
    "language_info": {
      "mimetype": "text/x-python",
      "nbconvert_exporter": "python",
      "name": "python",
      "pygments_lexer": "ipython3",
      "version": "3.6.6",
      "file_extension": ".py",
      "codemirror_mode": {
        "version": 3,
        "name": "ipython"
      }
    }
  },
  "nbformat": 4,
  "nbformat_minor": 2
}