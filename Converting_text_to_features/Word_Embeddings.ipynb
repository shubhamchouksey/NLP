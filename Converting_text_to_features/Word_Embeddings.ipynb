{
  "cells": [
    {
      "metadata": {},
      "cell_type": "markdown",
      "source": "# Here is my oversimplified and rather naive understanding of the difference:\n\nAs we know, CBOW is learning to predict the word by the context. Or maximize the probability of the target word by looking at the context. And this happens to be a problem for rare words. For example, given the context yesterday was a really [...] day CBOW model will tell you that most probably the word is beautiful or nice. Words like delightful will get much less attention of the model, because it is designed to predict the most probable word. This word will be smoothed over a lot of examples with more frequent words.\n\nOn the other hand, the skip-gram model is designed to predict the context. Given the word delightful it must understand it and tell us that there is a huge probability that the context is yesterday was really [...] day, or some other relevant context. With skip-gram the word delightful will not try to compete with the word beautiful but instead, delightful+context pairs will be treated as new observations. \n\nUPDATE \nThanks to @0xF for sharing this article\n\nAccording to Mikolov\n\nSkip-gram: works well with small amount of the training data, represents well even rare words or phrases. \n\nCBOW: several times faster to train than the skip-gram, slightly better accuracy for the frequent words\n\nOne more addition to the subject is found here:\n\nIn the \"skip-gram\" mode alternative to \"CBOW\", rather than averaging the context words, each is used as a pairwise training example. That is, in place of one CBOW example such as [predict 'ate' from average('The', 'cat', 'the', 'mouse')], the network is presented with four skip-gram examples [predict 'ate' from 'The'], [predict 'ate' from 'cat'], [predict 'ate' from 'the'], [predict 'ate' from 'mouse']. (The same random window-reduction occurs, so half the time that would just be two examples, of the nearest words.)"
    },
    {
      "metadata": {},
      "cell_type": "markdown",
      "source": "# size\nThe size of the dense vector to represent each token or word (i.e. the context or neighboring words). If you have limited data, then size should be a much smaller value since you would only have so many unique neighbors for a given word. If you have lots of data, it’s good to experiment with various sizes. A value of 100–150 has worked well for me for similarity lookups."
    },
    {
      "metadata": {},
      "cell_type": "markdown",
      "source": "# window\nThe maximum distance between the target word and its neighboring word. If your neighbor’s position is greater than the maximum window width to the left or the right, then, some neighbors would not be considered as being related to the target word. In theory, a smaller window should give you terms that are more related. Again, if your data is not sparse, then the window size should not matter too much, as long as it’s not overly narrow or overly broad. If you are not too sure about this, just use the default value."
    },
    {
      "metadata": {},
      "cell_type": "markdown",
      "source": "# min_count\nMinimium frequency count of words. The model would ignore words that do not satisfy the min_count. Extremely infrequent words are usually unimportant, so its best to get rid of those. Unless your dataset is really tiny, this does not really affect the model in terms of your final results. The settings here probably has more of an effect on memory usage and storage requirements of the model files."
    },
    {
      "metadata": {
        "trusted": true
      },
      "cell_type": "code",
      "source": "",
      "execution_count": null,
      "outputs": []
    },
    {
      "metadata": {
        "trusted": true
      },
      "cell_type": "code",
      "source": "#1.SKip-Gram\nsentences = [['I','love','nlp'],\n            ['I','will','learn','nlp','in','2','months'],\n            ['nlp','is','future'],\n            ['nlp','saves','time','and','solves','lot','of','industry','problems'],\n            ['nlp','uses','machine','learning']]\n\n",
      "execution_count": 1,
      "outputs": []
    },
    {
      "metadata": {
        "trusted": true
      },
      "cell_type": "code",
      "source": "!pip install gensim",
      "execution_count": 2,
      "outputs": [
        {
          "output_type": "stream",
          "text": "Requirement already satisfied: gensim in /home/nbuser/anaconda3_501/lib/python3.6/site-packages (3.8.1)\nRequirement already satisfied: smart-open>=1.8.1 in /home/nbuser/anaconda3_501/lib/python3.6/site-packages (from gensim) (1.9.0)\nRequirement already satisfied: scipy>=0.18.1 in /home/nbuser/anaconda3_501/lib/python3.6/site-packages (from gensim) (1.1.0)\nRequirement already satisfied: numpy>=1.11.3 in /home/nbuser/anaconda3_501/lib/python3.6/site-packages (from gensim) (1.16.2)\nRequirement already satisfied: six>=1.5.0 in /home/nbuser/anaconda3_501/lib/python3.6/site-packages (from gensim) (1.11.0)\nRequirement already satisfied: requests in /home/nbuser/anaconda3_501/lib/python3.6/site-packages (from smart-open>=1.8.1->gensim) (2.22.0)\nRequirement already satisfied: boto3 in /home/nbuser/anaconda3_501/lib/python3.6/site-packages (from smart-open>=1.8.1->gensim) (1.4.8)\nRequirement already satisfied: boto>=2.32 in /home/nbuser/anaconda3_501/lib/python3.6/site-packages (from smart-open>=1.8.1->gensim) (2.49.0)\nRequirement already satisfied: chardet<3.1.0,>=3.0.2 in /home/nbuser/anaconda3_501/lib/python3.6/site-packages (from requests->smart-open>=1.8.1->gensim) (3.0.4)\nRequirement already satisfied: urllib3!=1.25.0,!=1.25.1,<1.26,>=1.21.1 in /home/nbuser/anaconda3_501/lib/python3.6/site-packages (from requests->smart-open>=1.8.1->gensim) (1.23)\nRequirement already satisfied: idna<2.9,>=2.5 in /home/nbuser/anaconda3_501/lib/python3.6/site-packages (from requests->smart-open>=1.8.1->gensim) (2.7)\nRequirement already satisfied: certifi>=2017.4.17 in /home/nbuser/anaconda3_501/lib/python3.6/site-packages (from requests->smart-open>=1.8.1->gensim) (2018.10.15)\nRequirement already satisfied: s3transfer<0.2.0,>=0.1.10 in /home/nbuser/anaconda3_501/lib/python3.6/site-packages (from boto3->smart-open>=1.8.1->gensim) (0.1.13)\nRequirement already satisfied: botocore<1.9.0,>=1.8.0 in /home/nbuser/anaconda3_501/lib/python3.6/site-packages (from boto3->smart-open>=1.8.1->gensim) (1.8.50)\nRequirement already satisfied: jmespath<1.0.0,>=0.7.1 in /home/nbuser/anaconda3_501/lib/python3.6/site-packages (from boto3->smart-open>=1.8.1->gensim) (0.9.4)\nRequirement already satisfied: docutils>=0.10 in /home/nbuser/anaconda3_501/lib/python3.6/site-packages (from botocore<1.9.0,>=1.8.0->boto3->smart-open>=1.8.1->gensim) (0.14)\nRequirement already satisfied: python-dateutil<3.0.0,>=2.1 in /home/nbuser/anaconda3_501/lib/python3.6/site-packages (from botocore<1.9.0,>=1.8.0->boto3->smart-open>=1.8.1->gensim) (2.8.1)\n",
          "name": "stdout"
        }
      ]
    },
    {
      "metadata": {
        "trusted": true
      },
      "cell_type": "code",
      "source": "import gensim\nfrom gensim.models import Word2Vec\nfrom sklearn.decomposition import PCA\nimport matplotlib.pyplot as plt\n\n# training the model\nskipgram = Word2Vec(sentences, size=50, window=3, min_count=1, sg=1)   # size=50 is the vector size generated and window is the window size\nprint(skipgram)",
      "execution_count": 3,
      "outputs": [
        {
          "output_type": "stream",
          "text": "Word2Vec(vocab=21, size=50, alpha=0.025)\n",
          "name": "stdout"
        }
      ]
    },
    {
      "metadata": {
        "trusted": true
      },
      "cell_type": "code",
      "source": "print(skipgram['nlp'])",
      "execution_count": 4,
      "outputs": [
        {
          "output_type": "stream",
          "text": "[ 0.00635744  0.0051293  -0.00277831 -0.00270683 -0.00248992  0.00741263\n -0.0039787   0.00242408  0.00943866  0.00031503 -0.0007166   0.00718955\n -0.00146831 -0.00815664 -0.00025254  0.00321442 -0.00237877 -0.00655138\n -0.00856669  0.00194858  0.0014044  -0.00143516  0.00059123 -0.00303426\n  0.00984291 -0.00726434 -0.00826846 -0.00994215  0.00971438 -0.00534669\n -0.00377108 -0.00782043  0.00667465 -0.00995996 -0.00768117 -0.00907919\n -0.00460835  0.00690831  0.00642458  0.00155871 -0.00991143  0.00194336\n -0.0056366  -0.00285388 -0.00184906 -0.00721714  0.00213259 -0.00364706\n  0.00888661  0.00170614]\n",
          "name": "stdout"
        },
        {
          "output_type": "stream",
          "text": "/home/nbuser/anaconda3_501/lib/python3.6/site-packages/ipykernel/__main__.py:1: DeprecationWarning: Call to deprecated `__getitem__` (Method will be removed in 4.0.0, use self.wv.__getitem__() instead).\n  if __name__ == '__main__':\n",
          "name": "stderr"
        }
      ]
    },
    {
      "metadata": {
        "trusted": true
      },
      "cell_type": "code",
      "source": "print(skipgram['deep'])",
      "execution_count": 5,
      "outputs": [
        {
          "output_type": "stream",
          "text": "/home/nbuser/anaconda3_501/lib/python3.6/site-packages/ipykernel/__main__.py:1: DeprecationWarning: Call to deprecated `__getitem__` (Method will be removed in 4.0.0, use self.wv.__getitem__() instead).\n  if __name__ == '__main__':\n",
          "name": "stderr"
        },
        {
          "output_type": "error",
          "ename": "KeyError",
          "evalue": "\"word 'deep' not in vocabulary\"",
          "traceback": [
            "\u001b[0;31m---------------------------------------------------------------------------\u001b[0m",
            "\u001b[0;31mKeyError\u001b[0m                                  Traceback (most recent call last)",
            "\u001b[0;32m<ipython-input-5-9f1353df7fca>\u001b[0m in \u001b[0;36m<module>\u001b[0;34m\u001b[0m\n\u001b[0;32m----> 1\u001b[0;31m \u001b[0mprint\u001b[0m\u001b[0;34m(\u001b[0m\u001b[0mskipgram\u001b[0m\u001b[0;34m[\u001b[0m\u001b[0;34m'deep'\u001b[0m\u001b[0;34m]\u001b[0m\u001b[0;34m)\u001b[0m\u001b[0;34m\u001b[0m\u001b[0m\n\u001b[0m",
            "\u001b[0;32m~/anaconda3_501/lib/python3.6/site-packages/gensim/utils.py\u001b[0m in \u001b[0;36mnew_func1\u001b[0;34m(*args, **kwargs)\u001b[0m\n\u001b[1;32m   1445\u001b[0m                     \u001b[0mstacklevel\u001b[0m\u001b[0;34m=\u001b[0m\u001b[0;36m2\u001b[0m\u001b[0;34m\u001b[0m\u001b[0m\n\u001b[1;32m   1446\u001b[0m                 )\n\u001b[0;32m-> 1447\u001b[0;31m                 \u001b[0;32mreturn\u001b[0m \u001b[0mfunc\u001b[0m\u001b[0;34m(\u001b[0m\u001b[0;34m*\u001b[0m\u001b[0margs\u001b[0m\u001b[0;34m,\u001b[0m \u001b[0;34m**\u001b[0m\u001b[0mkwargs\u001b[0m\u001b[0;34m)\u001b[0m\u001b[0;34m\u001b[0m\u001b[0m\n\u001b[0m\u001b[1;32m   1448\u001b[0m \u001b[0;34m\u001b[0m\u001b[0m\n\u001b[1;32m   1449\u001b[0m             \u001b[0;32mreturn\u001b[0m \u001b[0mnew_func1\u001b[0m\u001b[0;34m\u001b[0m\u001b[0m\n",
            "\u001b[0;32m~/anaconda3_501/lib/python3.6/site-packages/gensim/models/word2vec.py\u001b[0m in \u001b[0;36m__getitem__\u001b[0;34m(self, words)\u001b[0m\n\u001b[1;32m   1119\u001b[0m \u001b[0;34m\u001b[0m\u001b[0m\n\u001b[1;32m   1120\u001b[0m         \"\"\"\n\u001b[0;32m-> 1121\u001b[0;31m         \u001b[0;32mreturn\u001b[0m \u001b[0mself\u001b[0m\u001b[0;34m.\u001b[0m\u001b[0mwv\u001b[0m\u001b[0;34m.\u001b[0m\u001b[0m__getitem__\u001b[0m\u001b[0;34m(\u001b[0m\u001b[0mwords\u001b[0m\u001b[0;34m)\u001b[0m\u001b[0;34m\u001b[0m\u001b[0m\n\u001b[0m\u001b[1;32m   1122\u001b[0m \u001b[0;34m\u001b[0m\u001b[0m\n\u001b[1;32m   1123\u001b[0m     \u001b[0;34m@\u001b[0m\u001b[0mdeprecated\u001b[0m\u001b[0;34m(\u001b[0m\u001b[0;34m\"Method will be removed in 4.0.0, use self.wv.__contains__() instead\"\u001b[0m\u001b[0;34m)\u001b[0m\u001b[0;34m\u001b[0m\u001b[0m\n",
            "\u001b[0;32m~/anaconda3_501/lib/python3.6/site-packages/gensim/models/keyedvectors.py\u001b[0m in \u001b[0;36m__getitem__\u001b[0;34m(self, entities)\u001b[0m\n\u001b[1;32m    351\u001b[0m         \u001b[0;32mif\u001b[0m \u001b[0misinstance\u001b[0m\u001b[0;34m(\u001b[0m\u001b[0mentities\u001b[0m\u001b[0;34m,\u001b[0m \u001b[0mstring_types\u001b[0m\u001b[0;34m)\u001b[0m\u001b[0;34m:\u001b[0m\u001b[0;34m\u001b[0m\u001b[0m\n\u001b[1;32m    352\u001b[0m             \u001b[0;31m# allow calls like trained_model['office'], as a shorthand for trained_model[['office']]\u001b[0m\u001b[0;34m\u001b[0m\u001b[0;34m\u001b[0m\u001b[0m\n\u001b[0;32m--> 353\u001b[0;31m             \u001b[0;32mreturn\u001b[0m \u001b[0mself\u001b[0m\u001b[0;34m.\u001b[0m\u001b[0mget_vector\u001b[0m\u001b[0;34m(\u001b[0m\u001b[0mentities\u001b[0m\u001b[0;34m)\u001b[0m\u001b[0;34m\u001b[0m\u001b[0m\n\u001b[0m\u001b[1;32m    354\u001b[0m \u001b[0;34m\u001b[0m\u001b[0m\n\u001b[1;32m    355\u001b[0m         \u001b[0;32mreturn\u001b[0m \u001b[0mvstack\u001b[0m\u001b[0;34m(\u001b[0m\u001b[0;34m[\u001b[0m\u001b[0mself\u001b[0m\u001b[0;34m.\u001b[0m\u001b[0mget_vector\u001b[0m\u001b[0;34m(\u001b[0m\u001b[0mentity\u001b[0m\u001b[0;34m)\u001b[0m \u001b[0;32mfor\u001b[0m \u001b[0mentity\u001b[0m \u001b[0;32min\u001b[0m \u001b[0mentities\u001b[0m\u001b[0;34m]\u001b[0m\u001b[0;34m)\u001b[0m\u001b[0;34m\u001b[0m\u001b[0m\n",
            "\u001b[0;32m~/anaconda3_501/lib/python3.6/site-packages/gensim/models/keyedvectors.py\u001b[0m in \u001b[0;36mget_vector\u001b[0;34m(self, word)\u001b[0m\n\u001b[1;32m    469\u001b[0m \u001b[0;34m\u001b[0m\u001b[0m\n\u001b[1;32m    470\u001b[0m     \u001b[0;32mdef\u001b[0m \u001b[0mget_vector\u001b[0m\u001b[0;34m(\u001b[0m\u001b[0mself\u001b[0m\u001b[0;34m,\u001b[0m \u001b[0mword\u001b[0m\u001b[0;34m)\u001b[0m\u001b[0;34m:\u001b[0m\u001b[0;34m\u001b[0m\u001b[0m\n\u001b[0;32m--> 471\u001b[0;31m         \u001b[0;32mreturn\u001b[0m \u001b[0mself\u001b[0m\u001b[0;34m.\u001b[0m\u001b[0mword_vec\u001b[0m\u001b[0;34m(\u001b[0m\u001b[0mword\u001b[0m\u001b[0;34m)\u001b[0m\u001b[0;34m\u001b[0m\u001b[0m\n\u001b[0m\u001b[1;32m    472\u001b[0m \u001b[0;34m\u001b[0m\u001b[0m\n\u001b[1;32m    473\u001b[0m     \u001b[0;32mdef\u001b[0m \u001b[0mwords_closer_than\u001b[0m\u001b[0;34m(\u001b[0m\u001b[0mself\u001b[0m\u001b[0;34m,\u001b[0m \u001b[0mw1\u001b[0m\u001b[0;34m,\u001b[0m \u001b[0mw2\u001b[0m\u001b[0;34m)\u001b[0m\u001b[0;34m:\u001b[0m\u001b[0;34m\u001b[0m\u001b[0m\n",
            "\u001b[0;32m~/anaconda3_501/lib/python3.6/site-packages/gensim/models/keyedvectors.py\u001b[0m in \u001b[0;36mword_vec\u001b[0;34m(self, word, use_norm)\u001b[0m\n\u001b[1;32m    466\u001b[0m             \u001b[0;32mreturn\u001b[0m \u001b[0mresult\u001b[0m\u001b[0;34m\u001b[0m\u001b[0m\n\u001b[1;32m    467\u001b[0m         \u001b[0;32melse\u001b[0m\u001b[0;34m:\u001b[0m\u001b[0;34m\u001b[0m\u001b[0m\n\u001b[0;32m--> 468\u001b[0;31m             \u001b[0;32mraise\u001b[0m \u001b[0mKeyError\u001b[0m\u001b[0;34m(\u001b[0m\u001b[0;34m\"word '%s' not in vocabulary\"\u001b[0m \u001b[0;34m%\u001b[0m \u001b[0mword\u001b[0m\u001b[0;34m)\u001b[0m\u001b[0;34m\u001b[0m\u001b[0m\n\u001b[0m\u001b[1;32m    469\u001b[0m \u001b[0;34m\u001b[0m\u001b[0m\n\u001b[1;32m    470\u001b[0m     \u001b[0;32mdef\u001b[0m \u001b[0mget_vector\u001b[0m\u001b[0;34m(\u001b[0m\u001b[0mself\u001b[0m\u001b[0;34m,\u001b[0m \u001b[0mword\u001b[0m\u001b[0;34m)\u001b[0m\u001b[0;34m:\u001b[0m\u001b[0;34m\u001b[0m\u001b[0m\n",
            "\u001b[0;31mKeyError\u001b[0m: \"word 'deep' not in vocabulary\""
          ]
        }
      ]
    },
    {
      "metadata": {},
      "cell_type": "markdown",
      "source": "We get an error saying the word doesn't exist because the word was not in the input training data. this is the reason we need to train the algorithm on as much data possible so that we do not miss out on words. "
    },
    {
      "metadata": {
        "trusted": true
      },
      "cell_type": "code",
      "source": "#save the model\nskipgram.save('skipgram.bin')",
      "execution_count": 6,
      "outputs": []
    },
    {
      "metadata": {
        "trusted": true
      },
      "cell_type": "code",
      "source": "#load the model\nskipgram = Word2Vec.load('skipgram.bin')",
      "execution_count": 7,
      "outputs": []
    },
    {
      "metadata": {
        "trusted": true
      },
      "cell_type": "code",
      "source": "#T-SNE plot is one of the way to evaluate word embeddings. let's generate it and see how it looks\nX = skipgram[skipgram.wv.vocab]\npca = PCA(n_components=2)\nresult = pca.fit_transform(X)\n\n#create a scatter plot of the projection\nplt.scatter(result[:,0],result[:,1])\nwords = list(skipgram.wv.vocab)\nfor i,word in enumerate(words):\n    print(i,word)\n    plt.annotate(word,xy=(result[i,0],result[i,1]))\nplt.show()",
      "execution_count": 8,
      "outputs": [
        {
          "output_type": "stream",
          "text": "/home/nbuser/anaconda3_501/lib/python3.6/site-packages/ipykernel/__main__.py:2: DeprecationWarning: Call to deprecated `__getitem__` (Method will be removed in 4.0.0, use self.wv.__getitem__() instead).\n  from ipykernel import kernelapp as app\n",
          "name": "stderr"
        },
        {
          "output_type": "stream",
          "text": "0 I\n1 love\n2 nlp\n3 will\n4 learn\n5 in\n6 2\n7 months\n8 is\n9 future\n10 saves\n11 time\n12 and\n13 solves\n14 lot\n15 of\n16 industry\n17 problems\n18 uses\n19 machine\n20 learning\n",
          "name": "stdout"
        },
        {
          "output_type": "display_data",
          "data": {
            "image/png": "[encoded data removed]",
            "text/plain": "<Figure size 432x288 with 1 Axes>"
          },
          "metadata": {
            "needs_background": "light"
          }
        }
      ]
    },
    {
      "metadata": {
        "trusted": true
      },
      "cell_type": "code",
      "source": "#Fast text\nimport gensim\nfrom gensim.models import FastText\nfrom sklearn.decomposition import PCA\nimport matplotlib.pyplot as plt\n\n#training the model\nfast = FastText(sentences,size=50,window=1,min_count=1,workers=5,min_n=1,max_n=2)   #size=50 is the vector size generated and window is the window size\nprint(fast)",
      "execution_count": 9,
      "outputs": [
        {
          "output_type": "stream",
          "text": "FastText(vocab=21, size=50, alpha=0.025)\n",
          "name": "stdout"
        }
      ]
    },
    {
      "metadata": {
        "trusted": true
      },
      "cell_type": "code",
      "source": "print(fast['nlp'])",
      "execution_count": 10,
      "outputs": [
        {
          "output_type": "stream",
          "text": "[-1.6116517e-03 -2.6842437e-03 -1.4123161e-03 -4.8961694e-04\n -4.8116664e-04  1.6734602e-03 -2.2624386e-05  4.4859196e-03\n  2.2521161e-03 -8.1064715e-04 -2.8372363e-03  6.4982567e-04\n -8.2040662e-03 -2.4926509e-03  2.7148155e-03  6.0103331e-03\n  1.4134098e-03  2.4951077e-03  2.2029295e-03 -3.8821306e-03\n  6.4711738e-03  3.8110465e-03  3.1327577e-03  3.0084548e-03\n -3.1696958e-03  8.2021458e-03 -5.5361572e-03  2.2495505e-03\n  1.4435770e-03  3.4889353e-03 -4.7196541e-04 -2.9955360e-03\n  5.4041822e-03  3.4371947e-03  3.8074008e-03 -1.4279892e-03\n  4.0042456e-03 -4.8689794e-04 -3.1099482e-03 -6.1368402e-03\n -2.8052935e-03  3.7885355e-03  1.6308230e-03  7.5960229e-04\n  4.4073914e-03 -3.9003673e-03  2.8369459e-03 -1.4616726e-03\n  2.4039266e-03 -2.8064598e-03]\n",
          "name": "stdout"
        },
        {
          "output_type": "stream",
          "text": "/home/nbuser/anaconda3_501/lib/python3.6/site-packages/ipykernel/__main__.py:1: DeprecationWarning: Call to deprecated `__getitem__` (Method will be removed in 4.0.0, use self.wv.__getitem__() instead).\n  if __name__ == '__main__':\n",
          "name": "stderr"
        }
      ]
    },
    {
      "metadata": {
        "trusted": true
      },
      "cell_type": "code",
      "source": "print(fast['deep'])",
      "execution_count": 11,
      "outputs": [
        {
          "output_type": "stream",
          "text": "[ 4.7452399e-03 -9.1636665e-03  1.3828727e-03 -4.6521514e-03\n  3.4524724e-03  7.8290300e-03  2.4587449e-03  3.8682255e-03\n  8.3747529e-04 -1.2427722e-03 -2.4132669e-04  5.1589143e-03\n -3.2853026e-05 -8.8954186e-03 -1.6255452e-03  8.8872120e-04\n -9.7734726e-04 -8.1042629e-03  4.0100040e-03  4.6066276e-04\n -1.6338048e-03  1.5637162e-03 -1.4283519e-03 -2.9010703e-03\n  1.2116297e-03  5.0408964e-04  2.8342567e-03  2.6176386e-03\n  8.7231351e-03  3.0406285e-03  1.8482351e-03  2.2859189e-04\n  5.8266858e-04 -1.0922629e-02  6.9695464e-03  1.1250170e-04\n -2.5109801e-04 -2.9413395e-03  2.3658089e-03 -3.8245535e-03\n  4.2527895e-03 -2.6765801e-03  1.4963622e-03  2.6379805e-04\n -4.7155507e-03  2.2200383e-03 -1.3752767e-03  5.3509986e-03\n  1.5914544e-05  3.7306680e-03]\n",
          "name": "stdout"
        },
        {
          "output_type": "stream",
          "text": "/home/nbuser/anaconda3_501/lib/python3.6/site-packages/ipykernel/__main__.py:1: DeprecationWarning: Call to deprecated `__getitem__` (Method will be removed in 4.0.0, use self.wv.__getitem__() instead).\n  if __name__ == '__main__':\n",
          "name": "stderr"
        }
      ]
    },
    {
      "metadata": {
        "trusted": true
      },
      "cell_type": "code",
      "source": "fast.save('fast.bin')",
      "execution_count": 12,
      "outputs": []
    },
    {
      "metadata": {
        "trusted": true
      },
      "cell_type": "code",
      "source": "fast = FastText.load('fast.bin')",
      "execution_count": 13,
      "outputs": []
    },
    {
      "metadata": {
        "trusted": true
      },
      "cell_type": "code",
      "source": "#T-SNE plot is onw of the way to evaluate word embeddings. let's generate it and see how it looks\nX= fast[fast.wv.vocab]\npca = PCA(n_components=2)\nresult = pca.fit_transform(X)\n\n#create a scatter plot of the projection\nplt.scatter(result[:,0],result[:,1])\nwords = list(fast.wv.vocab)\nfor i,word in enumerate(words):\n    print(i,word)\n    plt.annotate(word,xy=(result[i,0],result[i,1]))\nplt.show()",
      "execution_count": 14,
      "outputs": [
        {
          "output_type": "stream",
          "text": "/home/nbuser/anaconda3_501/lib/python3.6/site-packages/ipykernel/__main__.py:2: DeprecationWarning: Call to deprecated `__getitem__` (Method will be removed in 4.0.0, use self.wv.__getitem__() instead).\n  from ipykernel import kernelapp as app\n",
          "name": "stderr"
        },
        {
          "output_type": "stream",
          "text": "0 I\n1 love\n2 nlp\n3 will\n4 learn\n5 in\n6 2\n7 months\n8 is\n9 future\n10 saves\n11 time\n12 and\n13 solves\n14 lot\n15 of\n16 industry\n17 problems\n18 uses\n19 machine\n20 learning\n",
          "name": "stdout"
        },
        {
          "output_type": "display_data",
          "data": {
            "image/png": "[encoded data removed]",
            "text/plain": "<Figure size 432x288 with 1 Axes>"
          },
          "metadata": {
            "needs_background": "light"
          }
        }
      ]
    },
    {
      "metadata": {
        "trusted": true
      },
      "cell_type": "code",
      "source": "model = Word2Vec.load_word2vec_format('C:')",
      "execution_count": null,
      "outputs": []
    }
  ],
  "metadata": {
    "kernelspec": {
      "name": "python36",
      "display_name": "Python 3.6",
      "language": "python"
    },
    "language_info": {
      "mimetype": "text/x-python",
      "nbconvert_exporter": "python",
      "name": "python",
      "pygments_lexer": "ipython3",
      "version": "3.6.6",
      "file_extension": ".py",
      "codemirror_mode": {
        "version": 3,
        "name": "ipython"
      }
    }
  },
  "nbformat": 4,
  "nbformat_minor": 2
}