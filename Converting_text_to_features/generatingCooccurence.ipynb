{
  "cells": [
    {
      "metadata": {
        "trusted": true
      },
      "cell_type": "code",
      "source": "sentences = [['I','love','nlp'],['I','love','to','learn'],['nlp','is','future'],['nlp','is','cool']]",
      "execution_count": 1,
      "outputs": []
    },
    {
      "metadata": {
        "trusted": true
      },
      "cell_type": "code",
      "source": "import numpy as np\nimport nltk\nfrom nltk import bigrams\nimport itertools\nimport pandas as pd",
      "execution_count": 3,
      "outputs": []
    },
    {
      "metadata": {
        "trusted": true
      },
      "cell_type": "code",
      "source": "merged = list(itertools.chain.from_iterable(sentences))\n#print(merged)\nmatrix = co_occurrence_matrix(merged)\nprint(matrix)\n#generate the matrix\nComatrixFinal = pd.DataFrame(matrix[0],index = matrix[1],columns=matrix[1])\nprint(ComatrixFinal)",
      "execution_count": 18,
      "outputs": [
        {
          "output_type": "stream",
          "text": "['I', 'love', 'nlp', 'I', 'love', 'to', 'learn', 'nlp', 'is', 'future', 'nlp', 'is', 'cool']\n['nlp', 'is', 'to', 'future', 'love', 'I', 'learn', 'cool']\n{'nlp': 0, 'is': 1, 'to': 2, 'future': 3, 'love': 4, 'I': 5, 'learn': 6, 'cool': 7}\n[('I', 'love'), ('love', 'nlp'), ('nlp', 'I'), ('I', 'love'), ('love', 'to'), ('to', 'learn'), ('learn', 'nlp'), ('nlp', 'is'), ('is', 'future'), ('future', 'nlp'), ('nlp', 'is'), ('is', 'cool')]\n[(('I', 'love'), 2), (('nlp', 'is'), 2), (('love', 'nlp'), 1), (('nlp', 'I'), 1), (('love', 'to'), 1), (('to', 'learn'), 1), (('learn', 'nlp'), 1), (('is', 'future'), 1), (('future', 'nlp'), 1), (('is', 'cool'), 1)]\n[[0. 0. 0. 0. 0. 0. 0. 0.]\n [0. 0. 0. 0. 0. 0. 0. 0.]\n [0. 0. 0. 0. 0. 0. 0. 0.]\n [0. 0. 0. 0. 0. 0. 0. 0.]\n [0. 0. 0. 0. 0. 0. 0. 0.]\n [0. 0. 0. 0. 0. 0. 0. 0.]\n [0. 0. 0. 0. 0. 0. 0. 0.]\n [0. 0. 0. 0. 0. 0. 0. 0.]]\n(('I', 'love'), 2)\n(('nlp', 'is'), 2)\n(('love', 'nlp'), 1)\n(('nlp', 'I'), 1)\n(('love', 'to'), 1)\n(('to', 'learn'), 1)\n(('learn', 'nlp'), 1)\n(('is', 'future'), 1)\n(('future', 'nlp'), 1)\n(('is', 'cool'), 1)\n(matrix([[0., 0., 0., 1., 1., 0., 1., 0.],\n        [2., 0., 0., 0., 0., 0., 0., 0.],\n        [0., 0., 0., 0., 1., 0., 0., 0.],\n        [0., 1., 0., 0., 0., 0., 0., 0.],\n        [0., 0., 0., 0., 0., 2., 0., 0.],\n        [1., 0., 0., 0., 0., 0., 0., 0.],\n        [0., 0., 1., 0., 0., 0., 0., 0.],\n        [0., 1., 0., 0., 0., 0., 0., 0.]]), {'nlp': 0, 'is': 1, 'to': 2, 'future': 3, 'love': 4, 'I': 5, 'learn': 6, 'cool': 7})\n        nlp   is   to  future  love    I  learn  cool\nnlp     0.0  0.0  0.0     1.0   1.0  0.0    1.0   0.0\nis      2.0  0.0  0.0     0.0   0.0  0.0    0.0   0.0\nto      0.0  0.0  0.0     0.0   1.0  0.0    0.0   0.0\nfuture  0.0  1.0  0.0     0.0   0.0  0.0    0.0   0.0\nlove    0.0  0.0  0.0     0.0   0.0  2.0    0.0   0.0\nI       1.0  0.0  0.0     0.0   0.0  0.0    0.0   0.0\nlearn   0.0  0.0  1.0     0.0   0.0  0.0    0.0   0.0\ncool    0.0  1.0  0.0     0.0   0.0  0.0    0.0   0.0\n",
          "name": "stdout"
        }
      ]
    },
    {
      "metadata": {
        "trusted": true
      },
      "cell_type": "code",
      "source": "def co_occurrence_matrix(corpus):\n    print(corpus)\n    vocab = set(corpus)\n    vocab = list(vocab)\n    print(vocab)\n    vocab_to_index = {word:i for i,word in enumerate(vocab)}\n    print(vocab_to_index)\n    #create bigrams from all words in corpus\n    bi_grams = list(bigrams(corpus))\n    print(bi_grams)\n    bigram_freq = nltk.FreqDist(bi_grams).most_common(len(bi_grams))\n    print(bigram_freq)\n    #Initialize cooccurence matrix\n    co_occurrence_matrix = np.zeros((len(vocab),len(vocab)))\n    print(co_occurrence_matrix)\n    for bigram in bigram_freq:\n        current = bigram[0][1]\n        previous = bigram[0][0]\n        count = bigram[1]\n        print(bigram)\n        pos_current = vocab_to_index[current]\n        pos_previous = vocab_to_index[previous]\n        co_occurrence_matrix[pos_current][pos_previous] = count\n    co_occurrence_matrix = np.matrix(co_occurrence_matrix)\n    #print(co_occurrence_matrix)\n    return co_occurrence_matrix,vocab_to_index\n    \n    ",
      "execution_count": 16,
      "outputs": []
    },
    {
      "metadata": {
        "trusted": true
      },
      "cell_type": "code",
      "source": "",
      "execution_count": null,
      "outputs": []
    }
  ],
  "metadata": {
    "kernelspec": {
      "name": "python36",
      "display_name": "Python 3.6",
      "language": "python"
    },
    "language_info": {
      "mimetype": "text/x-python",
      "nbconvert_exporter": "python",
      "name": "python",
      "pygments_lexer": "ipython3",
      "version": "3.6.6",
      "file_extension": ".py",
      "codemirror_mode": {
        "version": 3,
        "name": "ipython"
      }
    }
  },
  "nbformat": 4,
  "nbformat_minor": 2
}