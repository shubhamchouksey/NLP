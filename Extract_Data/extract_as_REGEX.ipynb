{
  "cells": [
    {
      "metadata": {
        "trusted": true
      },
      "cell_type": "code",
      "source": "import re\nre.split('\\s+','I like this book.')",
      "execution_count": 3,
      "outputs": [
        {
          "output_type": "execute_result",
          "execution_count": 3,
          "data": {
            "text/plain": "['I', 'like', 'this', 'book.']"
          },
          "metadata": {}
        }
      ]
    },
    {
      "metadata": {
        "trusted": true
      },
      "cell_type": "code",
      "source": "doc = 'for more details please mail us at: chouksey98@gmail.com'\n\naddresses = re.findall(r'[\\w|.-]+@[\\w|.-]+',doc)\nprint(addresses)",
      "execution_count": 4,
      "outputs": [
        {
          "output_type": "stream",
          "text": "['chouksey98@gmail.com']\n",
          "name": "stdout"
        }
      ]
    },
    {
      "metadata": {
        "trusted": true
      },
      "cell_type": "code",
      "source": "doc = 'for more details please mail us at: chouksey98@gmail.com'\n\nnew_email_address = re.sub(r'[\\w|.-]+@[\\w|.-]+',r'choukseyins96@gmail.com',doc)\nprint(new_email_address)",
      "execution_count": 5,
      "outputs": [
        {
          "output_type": "stream",
          "text": "for more details please mail us at: choukseyins96@gmail.com\n",
          "name": "stdout"
        }
      ]
    },
    {
      "metadata": {
        "trusted": true
      },
      "cell_type": "code",
      "source": "import re\nimport requests\n\nurl = 'http://www.gutenberg.org/cache/epub/14264/pg14264.txt'\n\ndef get_book(url):\n    raw = requests.get(url).text\n    start = re.search(r'\\*\\*\\* START OF THIS PROJECT GUTENBERG EBOOK SCIENCE OF DRAWING \\*\\*\\*',raw).end()\n    \n    stop = re.search(r'II',raw).start()\n    \n    text = raw[start:stop]\n    return text\n\ndef preprocess(sentence):\n    return re.sub('[^A-Za-z0-9.]',' ',sentence).lower()\n\nbook = get_book(url)\n\nprocessed_book = preprocess(book)\n#print(book)\nprint(processed_book)\n\n",
      "execution_count": 31,
      "outputs": [
        {
          "output_type": "stream",
          "text": "          produced by jonathan ingram and the online distributed proofreading  team at http   www.pgdp.net                      the    practice   science    of    drawing    by    harold speed    associ  de la soci t  nationale des beaux arts  paris  member of the  royal society of portrait painters   c.                                                with 93 illustrations   diagrams                                                london seeley  service   co. limited 38 great russell street 1913                                                 illustration  plate i.    four photographs of same monochrome painting in different stages  illustrating a method of studying mass drawing with the brush                                                       preface      permit me in the first place to anticipate the disappointment of any  student who opens this book with the idea of finding  wrinkles  on how  to draw faces  trees  clouds  or what not  short cuts to excellence in  drawing  or any of the tricks so popular with the drawing masters of our  grandmothers and still dearly loved by a large number of people. no good  can come of such methods  for there are no short cuts to excellence. but  help of a very practical kind it is the aim of the following pages to  give  although it may be necessary to make a greater call upon the  intelligence of the student than these victorian methods attempted.    it was not until some time after having passed through the course of  training in two of our chief schools of art that the author got any idea  of what drawing really meant. what was taught was the faithful copying  of a series of objects  beginning with the simplest forms  such as  cubes  cones  cylinders   c.  an excellent system to begin with at  present in danger of some neglect   after which more complicated objects  in plaster of paris were attempted  and finally copies of the human head  and figure posed in suspended animation and supported by blocks   c. in  so far as this was accurately done  all this mechanical training of eye  and hand was excellent  but it was not enough. and when with an eye  trained to the closest mechanical accuracy the author visited the  galleries of the continent and studied the drawings of the old masters   it soon became apparent that either his or their ideas of drawing were  all wrong. very few drawings could be found sufficiently  like the  model  to obtain the prize at either of the great schools he had  attended. luckily there was just enough modesty left for him to realise  that possibly they were in some mysterious way right and his own  training in some way lacking. and so he set to work to try and climb the  long uphill road that separates mechanically accurate drawing from  artistically accurate drawing.    now this journey should have been commenced much earlier  and perhaps it  was due to his own stupidity that it was not  but it was with a vague  idea of saving some students from such wrong headedness  and possibly  straightening out some of the path  that he accepted the invitation to  write this book.    in writing upon any matter of experience  such as art  the possibilities  of misunderstanding are enormous  and one shudders to think of the  things that may be put down to one s credit  owing to such  misunderstandings. it is like writing about the taste of sugar  you are  only likely to be understood by those who have already experienced the  flavour  by those who have not  the wildest interpretation will be put  upon your words. the written word is necessarily confined to the things  of the understanding because only the understanding has written  language  whereas art deals with ideas of a different mental texture   which words can only vaguely suggest. however  there are a large number  of people who  although they cannot be said to have experienced in a  full sense any works of art  have undoubtedly the impelling desire which  a little direction may lead on to a fuller appreciation. and it is to  such that books on art are useful. so that although this book is  primarily addressed to working students  it is hoped that it may be of  interest to that increasing number of people who  tired with the rush  and struggle of modern existence  seek refreshment in artistic things.  to many such in this country modern art is still a closed book  its  point of view is so different from that of the art they have been  brought up with  that they refuse to have anything to do with it.  whereas  if they only took the trouble to find out something of the  point of view of the modern artist  they would discover new beauties  they little suspected.    if anybody looks at a picture by claude monet from the point of view of  a raphael  he will see nothing but a meaningless jargon of wild  paint strokes. and if anybody looks at a raphael from the point of view  of a claude monet  he will  no doubt  only see hard  tinny figures in a  setting devoid of any of the lovely atmosphere that always envelops form  seen in nature. so wide apart are some of the points of view in  painting. in the treatment of form these differences in point of view  make for enormous variety in the work. so that no apology need be made  for the large amount of space occupied in the following pages by what is  usually dismissed as mere theory  but what is in reality the first  essential of any good practice in drawing. to have a clear idea of what  it is you wish to do  is the first necessity of any successful  performance. but our exhibitions are full of works that show how seldom  this is the case in art. works showing much ingenuity and ability  but  no artistic brains  pictures that are little more than school studies   exercises in the representation of carefully or carelessly arranged  objects  but cold to any artistic intention.    at this time particularly some principles  and a clear intellectual  understanding of what it is you are trying to do  are needed. we have no  set traditions to guide us. the times when the student accepted the  style and traditions of his master and blindly followed them until he  found himself  are gone. such conditions belonged to an age when  intercommunication was difficult  and when the artistic horizon was  restricted to a single town or province. science has altered all that   and we may regret the loss of local colour and singleness of aim this  growth of art in separate compartments produced  but it is unlikely that  such conditions will occur again. quick means of transit and cheap  methods of reproduction have brought the art of the whole world to our  doors. where formerly the artistic food at the disposal of the student  was restricted to the few pictures in his vicinity and some prints of  others  now there is scarcely a picture of note in the world that is not  known to the average student  either from personal inspection at our  museums and loan exhibitions  or from excellent photographic  reproductions. not only european art  but the art of the east  china and  japan  is part of the formative influence by which he is surrounded  not  to mention the modern science of light and colour that has had such an  influence on technique. it is no wonder that a period of artistic  indigestion is upon us. hence the student has need of sound principles  and a clear understanding of the science of his art  if he would select  from this mass of material those things which answer to his own inner  need for artistic expression.    the position of art to day is like that of a river where many  tributaries meeting at one point  suddenly turn the steady flow to  turbulence  the many streams jostling each other and the different  currents pulling hither and thither. after a time these newly met forces  will adjust themselves to the altered condition  and a larger  finer  stream be the result. something analogous to this would seem to be  happening in art at the present time  when all nations and all schools  are acting and reacting upon each other  and art is losing its national  characteristics. the hope of the future is that a larger and deeper art   answering to the altered conditions of humanity  will result.    there are those who would leave this scene of struggling influences and  away up on some bare primitive mountain top start a new stream  begin  all over again. but however necessary it may be to give the primitive  mountain waters that were the start of all the streams a more prominent  place in the new flow onwards  it is unlikely that much can come of any  attempt to leave the turbulent waters  go backwards  and start again   they can only flow onwards. to speak more plainly  the complexity of  modern art influences may make it necessary to call attention to the  primitive principles of expression that should never be lost sight of in  any work  but hardly justifies the attitude of those anarchists in art  who would flout the heritage of culture we possess and attempt a new  start. such attempts however when sincere are interesting and may be  productive of some new vitality  adding to the weight of the main  stream. but it must be along the main stream  along lines in harmony  with tradition that the chief advance must be looked for.    although it has been felt necessary to devote much space to an attempt  to find principles that may be said to be at the basis of the art of all  nations  the executive side of the question has not been neglected. and  it is hoped that the logical method for the study of drawing from the  two opposite points of view of line and mass here advocated may be  useful  and help students to avoid some of the confusion that results  from attempting simultaneously the study of these different qualities of  form expression.                                                      contents      i.        introduction  \n",
          "name": "stdout"
        }
      ]
    },
    {
      "metadata": {
        "trusted": true
      },
      "cell_type": "code",
      "source": "len(re.findall(r'the',processed_book))",
      "execution_count": 32,
      "outputs": [
        {
          "output_type": "execute_result",
          "execution_count": 32,
          "data": {
            "text/plain": "138"
          },
          "metadata": {}
        }
      ]
    },
    {
      "metadata": {
        "trusted": true
      },
      "cell_type": "code",
      "source": "processed_book = re.sub(r'\\si\\s', 'I',processed_book)\n\nprint(processed_book)",
      "execution_count": 33,
      "outputs": [
        {
          "output_type": "stream",
          "text": "          produced by jonathan ingram and the online distributed proofreading  team at http   www.pgdp.net                      the    practice   science    of    drawing    by    harold speed    associ  de la soci t  nationale des beaux arts  paris  member of the  royal society of portrait painters   c.                                                with 93 illustrations   diagrams                                                london seeley  service   co. limited 38 great russell street 1913                                                 illustration  plate i.    four photographs of same monochrome painting in different stages  illustrating a method of studying mass drawing with the brush                                                       preface      permit me in the first place to anticipate the disappointment of any  student who opens this book with the idea of finding  wrinkles  on how  to draw faces  trees  clouds  or what not  short cuts to excellence in  drawing  or any of the tricks so popular with the drawing masters of our  grandmothers and still dearly loved by a large number of people. no good  can come of such methods  for there are no short cuts to excellence. but  help of a very practical kind it is the aim of the following pages to  give  although it may be necessary to make a greater call upon the  intelligence of the student than these victorian methods attempted.    it was not until some time after having passed through the course of  training in two of our chief schools of art that the author got any idea  of what drawing really meant. what was taught was the faithful copying  of a series of objects  beginning with the simplest forms  such as  cubes  cones  cylinders   c.  an excellent system to begin with at  present in danger of some neglect   after which more complicated objects  in plaster of paris were attempted  and finally copies of the human head  and figure posed in suspended animation and supported by blocks   c. in  so far as this was accurately done  all this mechanical training of eye  and hand was excellent  but it was not enough. and when with an eye  trained to the closest mechanical accuracy the author visited the  galleries of the continent and studied the drawings of the old masters   it soon became apparent that either his or their ideas of drawing were  all wrong. very few drawings could be found sufficiently  like the  model  to obtain the prize at either of the great schools he had  attended. luckily there was just enough modesty left for him to realise  that possibly they were in some mysterious way right and his own  training in some way lacking. and so he set to work to try and climb the  long uphill road that separates mechanically accurate drawing from  artistically accurate drawing.    now this journey should have been commenced much earlier  and perhaps it  was due to his own stupidity that it was not  but it was with a vague  idea of saving some students from such wrong headedness  and possibly  straightening out some of the path  that he accepted the invitation to  write this book.    in writing upon any matter of experience  such as art  the possibilities  of misunderstanding are enormous  and one shudders to think of the  things that may be put down to one s credit  owing to such  misunderstandings. it is like writing about the taste of sugar  you are  only likely to be understood by those who have already experienced the  flavour  by those who have not  the wildest interpretation will be put  upon your words. the written word is necessarily confined to the things  of the understanding because only the understanding has written  language  whereas art deals with ideas of a different mental texture   which words can only vaguely suggest. however  there are a large number  of people who  although they cannot be said to have experienced in a  full sense any works of art  have undoubtedly the impelling desire which  a little direction may lead on to a fuller appreciation. and it is to  such that books on art are useful. so that although this book is  primarily addressed to working students  it is hoped that it may be of  interest to that increasing number of people who  tired with the rush  and struggle of modern existence  seek refreshment in artistic things.  to many such in this country modern art is still a closed book  its  point of view is so different from that of the art they have been  brought up with  that they refuse to have anything to do with it.  whereas  if they only took the trouble to find out something of the  point of view of the modern artist  they would discover new beauties  they little suspected.    if anybody looks at a picture by claude monet from the point of view of  a raphael  he will see nothing but a meaningless jargon of wild  paint strokes. and if anybody looks at a raphael from the point of view  of a claude monet  he will  no doubt  only see hard  tinny figures in a  setting devoid of any of the lovely atmosphere that always envelops form  seen in nature. so wide apart are some of the points of view in  painting. in the treatment of form these differences in point of view  make for enormous variety in the work. so that no apology need be made  for the large amount of space occupied in the following pages by what is  usually dismissed as mere theory  but what is in reality the first  essential of any good practice in drawing. to have a clear idea of what  it is you wish to do  is the first necessity of any successful  performance. but our exhibitions are full of works that show how seldom  this is the case in art. works showing much ingenuity and ability  but  no artistic brains  pictures that are little more than school studies   exercises in the representation of carefully or carelessly arranged  objects  but cold to any artistic intention.    at this time particularly some principles  and a clear intellectual  understanding of what it is you are trying to do  are needed. we have no  set traditions to guide us. the times when the student accepted the  style and traditions of his master and blindly followed them until he  found himself  are gone. such conditions belonged to an age when  intercommunication was difficult  and when the artistic horizon was  restricted to a single town or province. science has altered all that   and we may regret the loss of local colour and singleness of aim this  growth of art in separate compartments produced  but it is unlikely that  such conditions will occur again. quick means of transit and cheap  methods of reproduction have brought the art of the whole world to our  doors. where formerly the artistic food at the disposal of the student  was restricted to the few pictures in his vicinity and some prints of  others  now there is scarcely a picture of note in the world that is not  known to the average student  either from personal inspection at our  museums and loan exhibitions  or from excellent photographic  reproductions. not only european art  but the art of the east  china and  japan  is part of the formative influence by which he is surrounded  not  to mention the modern science of light and colour that has had such an  influence on technique. it is no wonder that a period of artistic  indigestion is upon us. hence the student has need of sound principles  and a clear understanding of the science of his art  if he would select  from this mass of material those things which answer to his own inner  need for artistic expression.    the position of art to day is like that of a river where many  tributaries meeting at one point  suddenly turn the steady flow to  turbulence  the many streams jostling each other and the different  currents pulling hither and thither. after a time these newly met forces  will adjust themselves to the altered condition  and a larger  finer  stream be the result. something analogous to this would seem to be  happening in art at the present time  when all nations and all schools  are acting and reacting upon each other  and art is losing its national  characteristics. the hope of the future is that a larger and deeper art   answering to the altered conditions of humanity  will result.    there are those who would leave this scene of struggling influences and  away up on some bare primitive mountain top start a new stream  begin  all over again. but however necessary it may be to give the primitive  mountain waters that were the start of all the streams a more prominent  place in the new flow onwards  it is unlikely that much can come of any  attempt to leave the turbulent waters  go backwards  and start again   they can only flow onwards. to speak more plainly  the complexity of  modern art influences may make it necessary to call attention to the  primitive principles of expression that should never be lost sight of in  any work  but hardly justifies the attitude of those anarchists in art  who would flout the heritage of culture we possess and attempt a new  start. such attempts however when sincere are interesting and may be  productive of some new vitality  adding to the weight of the main  stream. but it must be along the main stream  along lines in harmony  with tradition that the chief advance must be looked for.    although it has been felt necessary to devote much space to an attempt  to find principles that may be said to be at the basis of the art of all  nations  the executive side of the question has not been neglected. and  it is hoped that the logical method for the study of drawing from the  two opposite points of view of line and mass here advocated may be  useful  and help students to avoid some of the confusion that results  from attempting simultaneously the study of these different qualities of  form expression.                                                      contents      i.        introduction  \n",
          "name": "stdout"
        }
      ]
    },
    {
      "metadata": {
        "trusted": true
      },
      "cell_type": "code",
      "source": "re.findall(r'[a-zA-Z0-9]*--[a-zA-Z0-9]*',requests.get(url).text)\n",
      "execution_count": 35,
      "outputs": [
        {
          "output_type": "execute_result",
          "execution_count": 35,
          "data": {
            "text/plain": "['instrument--man',\n 'consciousness--the',\n 'colour--that',\n 'appearances--there',\n 'vastness--the',\n 'natures--associations',\n 'inadequate--was',\n 'neglected--neglected',\n 'makes--and',\n 'appearances--this',\n 'called--many',\n 'otherwise--is',\n 'ankle--how',\n 'engine--the',\n '--it',\n 'naturally--not',\n 'form--a',\n 'drawing--the',\n 'gradated--somewhat',\n 'glass--a',\n 'do--and',\n 'values--that',\n 'way--the',\n 'called--is',\n 'appearances--realisations',\n 'variety--what',\n 'vitality--the',\n 'chapter--is',\n 'ornaments--lines',\n 'contrast--which',\n 'mind--quite',\n 'it--than',\n 'alike--I',\n 'based--so',\n 'secrets--a',\n 'half--two',\n 'drawn--I',\n 'do--it',\n 'indifferently--there',\n 'that--to',\n 'see--the',\n 'colour--a',\n 'pattern--and',\n 'result--work',\n 'making--how',\n '--the',\n 'it--in',\n 'first--you',\n 'expressed--the',\n 'work--inspired',\n 'darks--which',\n 'it--to',\n '--The',\n '--Lower',\n '--The',\n '--Point',\n '--First',\n '--Height',\n '--Top',\n 'one--the',\n 'away--you']"
          },
          "metadata": {}
        }
      ]
    },
    {
      "metadata": {
        "trusted": true
      },
      "cell_type": "code",
      "source": "",
      "execution_count": null,
      "outputs": []
    }
  ],
  "metadata": {
    "kernelspec": {
      "name": "python36",
      "display_name": "Python 3.6",
      "language": "python"
    },
    "language_info": {
      "mimetype": "text/x-python",
      "nbconvert_exporter": "python",
      "name": "python",
      "pygments_lexer": "ipython3",
      "version": "3.6.6",
      "file_extension": ".py",
      "codemirror_mode": {
        "version": 3,
        "name": "ipython"
      }
    }
  },
  "nbformat": 4,
  "nbformat_minor": 2
}