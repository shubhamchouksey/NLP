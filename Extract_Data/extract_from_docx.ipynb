{
  "cells": [
    {
      "metadata": {
        "trusted": true
      },
      "cell_type": "code",
      "source": "!pip install --pre python-docx",
      "execution_count": 13,
      "outputs": [
        {
          "output_type": "stream",
          "text": "Requirement already satisfied: python-docx in /home/nbuser/anaconda3_501/lib/python3.6/site-packages (0.8.10)\nRequirement already satisfied: lxml>=2.3.2 in /home/nbuser/anaconda3_501/lib/python3.6/site-packages (from python-docx) (4.2.5)\n\u001b[33mWARNING: You are using pip version 19.1, however version 19.1.1 is available.\nYou should consider upgrading via the 'pip install --upgrade pip' command.\u001b[0m\n",
          "name": "stdout"
        }
      ]
    },
    {
      "metadata": {
        "trusted": true
      },
      "cell_type": "code",
      "source": "from docx import Document\n\ndoc = open('SC5058229.docx','rb')\ndocument = docx.Document(doc)\n\ndocu=\"\"\nfor para in document.paragraphs:\n    docu+=para.text\n    \nprint(docu)\n",
      "execution_count": 27,
      "outputs": [
        {
          "output_type": "stream",
          "text": "  Attachment 12   Attachment 7-A_1 - Non Disclosure Agreement  I, __________________________________________, am aware that American Express Travel Related Services Company, Inc. (“Amexco”) and Syntel, Inc (“Supplier”) have entered into a Third Amended and Restated Master Services Agreement for application development, maintenance, and related services (“Agreement”) and I fully understand that it imposes certain obligations on Supplier, some of which are specifically set forth below under the titles “Agreement Excerpts”. I further understand that as part of its obligations under the Agreement, Supplier is required to obtain this written agreement from certain individuals, including myself, to further ensure understanding and compliance with these obligations.  In consideration of my future assignment and/ or responsibilities in connection with Supplier’s performance under the Agreement, I hereby acknowledge, represent and confirm to Supplier and Amexco as follows: I have read the provisions of this Non-Disclosure and understand each of them, agree to them and know of no agreements, obligations or restrictions which prevent or prohibit me from complying with them; I shall receive and maintain all Amexco information, perform services, and conduct myself, in all respects during the term of the Agreement and any Schedules and for the requisite periods thereafter, in a manner consistent with these obligations;  I understand that the “Agreement Excerpts” below are Confidential Information; and I agree not to, directly or indirectly, engage in or assist others to engage in, any activity or conduct which violates the provisions of this Non-Disclosure Agreement.                \t       By:   ______________________                                                                 ____________________________________   Title: ________________________________________                        Date: ________________________________    \n",
          "name": "stdout"
        }
      ]
    },
    {
      "metadata": {
        "trusted": true
      },
      "cell_type": "code",
      "source": "",
      "execution_count": null,
      "outputs": []
    }
  ],
  "metadata": {
    "kernelspec": {
      "name": "python36",
      "display_name": "Python 3.6",
      "language": "python"
    },
    "language_info": {
      "mimetype": "text/x-python",
      "nbconvert_exporter": "python",
      "name": "python",
      "pygments_lexer": "ipython3",
      "version": "3.6.6",
      "file_extension": ".py",
      "codemirror_mode": {
        "version": 3,
        "name": "ipython"
      }
    }
  },
  "nbformat": 4,
  "nbformat_minor": 2
}