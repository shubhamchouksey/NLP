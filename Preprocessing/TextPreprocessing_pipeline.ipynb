{
  "cells": [
    {
      "metadata": {
        "trusted": true
      },
      "cell_type": "code",
      "source": "tweet_sample = 'How to control of your #debt https://personal.vanguard.com/us/insights/saving-investing/debt-management. !!! ! #Best advice for #family #financial #success (@PrepareTowin)'",
      "execution_count": 101,
      "outputs": []
    },
    {
      "metadata": {
        "trusted": true
      },
      "cell_type": "code",
      "source": "!pip install wordCloud",
      "execution_count": 2,
      "outputs": [
        {
          "output_type": "stream",
          "text": "Collecting wordCloud\n\u001b[?25l  Downloading https://files.pythonhosted.org/packages/5e/b7/c16286efa3d442d6983b3842f982502c00306c1a4c719c41fb00d6017c77/wordcloud-1.5.0-cp35-cp35m-manylinux1_x86_64.whl (357kB)\n\u001b[K     |████████████████████████████████| 358kB 2.7MB/s eta 0:00:01\n\u001b[?25hRequirement already satisfied: pillow in /home/nbuser/anaconda3_420/lib/python3.5/site-packages (from wordCloud) (4.3.0)\nRequirement already satisfied: numpy>=1.6.1 in /home/nbuser/anaconda3_420/lib/python3.5/site-packages (from wordCloud) (1.17.0)\nRequirement already satisfied: olefile in /home/nbuser/anaconda3_420/lib/python3.5/site-packages (from pillow->wordCloud) (0.44)\nInstalling collected packages: wordCloud\nSuccessfully installed wordCloud-1.5.0\n\u001b[33mWARNING: You are using pip version 19.2.2, however version 19.2.3 is available.\nYou should consider upgrading via the 'pip install --upgrade pip' command.\u001b[0m\n",
          "name": "stdout"
        }
      ]
    },
    {
      "metadata": {
        "trusted": true
      },
      "cell_type": "code",
      "source": "!python -m textblob.download_corpora",
      "execution_count": 3,
      "outputs": [
        {
          "output_type": "stream",
          "text": "[nltk_data] Downloading package brown to /home/nbuser/nltk_data...\n[nltk_data]   Unzipping corpora/brown.zip.\n[nltk_data] Downloading package punkt to /home/nbuser/nltk_data...\n[nltk_data]   Unzipping tokenizers/punkt.zip.\n[nltk_data] Downloading package wordnet to /home/nbuser/nltk_data...\n[nltk_data]   Unzipping corpora/wordnet.zip.\n[nltk_data] Downloading package conll2000 to /home/nbuser/nltk_data...\n[nltk_data]   Unzipping corpora/conll2000.zip.\n[nltk_data] Downloading package maxent_treebank_pos_tagger to\n[nltk_data]     /home/nbuser/nltk_data...\n[nltk_data]   Unzipping taggers/maxent_treebank_pos_tagger.zip.\n[nltk_data] Downloading package movie_reviews to\n[nltk_data]     /home/nbuser/nltk_data...\n[nltk_data]   Unzipping corpora/movie_reviews.zip.\nFinished.\n",
          "name": "stdout"
        }
      ]
    },
    {
      "metadata": {
        "trusted": true
      },
      "cell_type": "code",
      "source": "def processRow(row):\n    import re\n    import nltk\n    from textblob import TextBlob\n    from nltk.corpus import stopwords\n    from textblob import Word\n    from nltk.stem import PorterStemmer\n    from nltk.util import ngrams\n    from wordcloud import WordCloud, STOPWORDS\n    from nltk.tokenize import word_tokenize\n    \n    tweet = row\n    #Lower case\n    tweet.lower()\n    #removes unicode strings like \"\\u002c\" and \"x96\"\n    tweet = re.sub(r'(\\\\u[0-9A-Fa-f]+)',r'',tweet)\n    tweet = re.sub(r'[^\\x00-\\x7f]',r'',tweet)\n    #convert any url to URL        \n    tweet = re.sub(r'((www\\.[^\\s]+)|(https?://[^\\s]+))','URL',tweet)\n    #convert any @Username to \"AT_USER\"\n    tweet = re.sub(r'@[^\\s]+','AT_USER',tweet)\n    #Remove additional whitespace  \n    tweet = re.sub('[\\s]+',' ',tweet)\n    tweet = re.sub('[\\n]+',' ',tweet)\n    \n    print(tweet)\n    #Remove not alphanumeric symbol white spaces\n    tweet = re.sub(r'[^\\w]',' ',tweet)\n    print(tweet)\n    #Remove hashtag in front of a word \"\"\"\n    tweet = re.sub(r'#([^\\s]+)',r'\\1',tweet)\n    #Remove #word with word '\\1' is backrefernce of a group means that innner re of parenthesis '()'\n    tweet = re.sub(r'#([^\\s]+)',r'\\1',tweet)\n    #print(tweet)\n    #Remove :(or :)                \n    tweet = tweet.replace(':)','') \n    tweet = tweet.replace(':(','') \n    #Remove numbers                \n    tweet = ''.join([i for i in tweet if not i.isdigit()])\n    print(tweet)\n    #Remove multiple  exclaimation \n    tweet = re.sub(r'(\\!)\\1+',' ',tweet)\n    print(tweet)\n    #Remove multiple question marks\n    tweet = re.sub(r'(\\?)\\1+',' ',tweet)\n    #remove mutistop\n    tweet = re.sub(r'(\\.)\\1+',' ',tweet)\n    print(tweet)\n    #lemma\n    tweet = ' '.join([Word(word).lemmatize() for word in tweet.split()])\n    #stemmer\n    #st = PorterStemmer()\n    #tweet = ' '.join([st.stem(word) for word in tweet.split()])\n    #Removes emotions from text\n    print(tweet)\n    tweet = re.sub(':-\\)|;\\)|:\\)|\\(-:|:-D|=D|:P|xD|X-p|\\^\\^|:-*|\\^\\.\\^|\\^\\-\\^|\\^\\_\\^|\\,-\\)|\\)-:|:\\'\\(|:\\(|:-\\(|:\\S|T\\.T|\\.\\_\\.|:<|:-\\S|:-<|\\*\\-\\*|:0|=0|=\\-0|0\\.o|X0|0\\_0|:-\\@|=/|:/|X\\-\\(|>\\.<|>=\\(|D:','',tweet)\n    #trim \n    tweet = tweet.strip('\\'\"')\n    row = tweet\n    return row\n    \nprint(processRow(tweet_sample))                               \n                                                                       ",
      "execution_count": 106,
      "outputs": [
        {
          "output_type": "stream",
          "text": "How to control of your #debt URL !!! ! #Best advice for #family #financial #success (AT_USER\nHow to control of your  debt URL        Best advice for  family  financial  success  AT_USER\nHow to control of your  debt URL        Best advice for  family  financial  success  AT_USER\nHow to control of your  debt URL        Best advice for  family  financial  success  AT_USER\nHow to control of your  debt URL        Best advice for  family  financial  success  AT_USER\nHow to control of your debt URL Best advice for family financial success AT_USER\nHow to control of your debt URL Best advice for family financial success AT_USER\n",
          "name": "stdout"
        }
      ]
    },
    {
      "metadata": {
        "trusted": true
      },
      "cell_type": "code",
      "source": "import re\ntext = '.#Best advice for #family #financial #success'\n#print(text)\ntext = re.sub(r'#([^\\s]+)',r'\\1',text)\ntext = re.sub(r'#([^\\s]+)',r'\\1',text)\ntext.strip('\\'\"\"')\nprint(text)\n    ",
      "execution_count": 17,
      "outputs": [
        {
          "output_type": "stream",
          "text": ".Best advice for family financial success\n",
          "name": "stdout"
        }
      ]
    },
    {
      "metadata": {
        "trusted": true
      },
      "cell_type": "code",
      "source": "import re\ntweet = re.sub(r'\\\\u[0-9A-Fa-f]+','','effsvsd \\u002c')\nprint(tweet)",
      "execution_count": 86,
      "outputs": [
        {
          "output_type": "stream",
          "text": "effsvsd ,\n",
          "name": "stdout"
        }
      ]
    },
    {
      "metadata": {
        "trusted": true
      },
      "cell_type": "code",
      "source": "print('How to control of your\\u002a')",
      "execution_count": 45,
      "outputs": [
        {
          "output_type": "stream",
          "text": "How to control of your*\n",
          "name": "stdout"
        }
      ]
    },
    {
      "metadata": {
        "trusted": true
      },
      "cell_type": "code",
      "source": "tweet = re.sub(r'((www\\.[^\\s]+)|(https?://[^\\s]+))','URL','https://www.gmail.com')\ntweet",
      "execution_count": 87,
      "outputs": [
        {
          "output_type": "execute_result",
          "execution_count": 87,
          "data": {
            "text/plain": "'URL'"
          },
          "metadata": {}
        }
      ]
    },
    {
      "metadata": {
        "trusted": true
      },
      "cell_type": "code",
      "source": "tweet = re.sub(r'@[^\\s]+','AT_USER','(@shubham)')\nprint(tweet)",
      "execution_count": 89,
      "outputs": [
        {
          "output_type": "stream",
          "text": "(AT_USER\n",
          "name": "stdout"
        }
      ]
    },
    {
      "metadata": {
        "trusted": true
      },
      "cell_type": "code",
      "source": "tweet = re.sub(':-\\)|;\\)|:\\)|\\(-:|:-D|=D|:P|xD|X-p|\\^\\^|:-*|\\^\\.\\^|\\^\\-\\^|\\^\\_\\^|\\,-\\)|\\)-:|:\\'\\(|:\\(|:-\\(|:\\S|T\\.T|\\.\\_\\.|:<|:-\\S|:-<|\\*\\-\\*|:0|=0|=\\-0|0\\.o|X0|0\\_0|:-\\@|=/|:/|X\\-\\(|>\\.<|>=\\(|D:','',\"efewfewf:/\")\ntweet",
      "execution_count": 120,
      "outputs": [
        {
          "output_type": "execute_result",
          "execution_count": 120,
          "data": {
            "text/plain": "'efewfewf/'"
          },
          "metadata": {}
        }
      ]
    },
    {
      "metadata": {
        "trusted": true
      },
      "cell_type": "code",
      "source": "",
      "execution_count": null,
      "outputs": []
    }
  ],
  "metadata": {
    "kernelspec": {
      "name": "python3",
      "display_name": "Python 3",
      "language": "python"
    },
    "language_info": {
      "mimetype": "text/x-python",
      "nbconvert_exporter": "python",
      "name": "python",
      "pygments_lexer": "ipython3",
      "version": "3.5.4",
      "file_extension": ".py",
      "codemirror_mode": {
        "version": 3,
        "name": "ipython"
      }
    }
  },
  "nbformat": 4,
  "nbformat_minor": 2
}