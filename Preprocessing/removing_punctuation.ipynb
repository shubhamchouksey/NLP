{
  "cells": [
    {
      "metadata": {
        "trusted": true
      },
      "cell_type": "code",
      "source": "text = ['This is introduction to NLP','It is likely to be useful, to people','Machine Learning is the new electricity','There would be less hype around AI and more action going forward',\n       'python is the best tool!','R is good language','i Like this book','I want more book like this']\n",
      "execution_count": 7,
      "outputs": []
    },
    {
      "metadata": {
        "trusted": true
      },
      "cell_type": "code",
      "source": "import pandas as pd\ndf = pd.DataFrame({'tweet':text})\nprint(df)",
      "execution_count": 8,
      "outputs": [
        {
          "output_type": "stream",
          "text": "                                               tweet\n0                        This is introduction to NLP\n1               It is likely to be useful, to people\n2            Machine Learning is the new electricity\n3  There would be less hype around AI and more ac...\n4                           python is the best tool!\n5                                 R is good language\n6                                   i Like this book\n7                         I want more book like this\n",
          "name": "stdout"
        }
      ]
    },
    {
      "metadata": {
        "trusted": true
      },
      "cell_type": "code",
      "source": "import re\ns = 'I like. This book!'\ns1 = re.sub(r'[^\\w\\s]','',s)\ns1",
      "execution_count": 3,
      "outputs": [
        {
          "output_type": "execute_result",
          "execution_count": 3,
          "data": {
            "text/plain": "'I like This book'"
          },
          "metadata": {}
        }
      ]
    },
    {
      "metadata": {
        "trusted": true
      },
      "cell_type": "code",
      "source": "df['tweet'] = df['tweet'].str.replace('[^\\w\\s]','')\ndf['tweet']",
      "execution_count": 10,
      "outputs": [
        {
          "output_type": "execute_result",
          "execution_count": 10,
          "data": {
            "text/plain": "0                          This is introduction to NLP\n1                  It is likely to be useful to people\n2              Machine Learning is the new electricity\n3    There would be less hype around AI and more ac...\n4                              python is the best tool\n5                                   R is good language\n6                                     i Like this book\n7                           I want more book like this\nName: tweet, dtype: object"
          },
          "metadata": {}
        }
      ]
    },
    {
      "metadata": {
        "trusted": true
      },
      "cell_type": "code",
      "source": "import string\nfor c in string.punctuation:\n    df['tweet'].replace(c,\"\")\ndf['tweet']    ",
      "execution_count": 11,
      "outputs": [
        {
          "output_type": "execute_result",
          "execution_count": 11,
          "data": {
            "text/plain": "0                          This is introduction to NLP\n1                  It is likely to be useful to people\n2              Machine Learning is the new electricity\n3    There would be less hype around AI and more ac...\n4                              python is the best tool\n5                                   R is good language\n6                                     i Like this book\n7                           I want more book like this\nName: tweet, dtype: object"
          },
          "metadata": {}
        }
      ]
    },
    {
      "metadata": {
        "trusted": true
      },
      "cell_type": "code",
      "source": "",
      "execution_count": null,
      "outputs": []
    },
    {
      "metadata": {
        "trusted": true
      },
      "cell_type": "code",
      "source": "",
      "execution_count": null,
      "outputs": []
    }
  ],
  "metadata": {
    "kernelspec": {
      "name": "python36",
      "display_name": "Python 3.6",
      "language": "python"
    },
    "language_info": {
      "mimetype": "text/x-python",
      "nbconvert_exporter": "python",
      "name": "python",
      "pygments_lexer": "ipython3",
      "version": "3.6.6",
      "file_extension": ".py",
      "codemirror_mode": {
        "version": 3,
        "name": "ipython"
      }
    }
  },
  "nbformat": 4,
  "nbformat_minor": 2
}