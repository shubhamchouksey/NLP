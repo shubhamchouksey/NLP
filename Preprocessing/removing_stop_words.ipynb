{
  "cells": [
    {
      "metadata": {
        "trusted": true
      },
      "cell_type": "code",
      "source": "text = ['This is introduction to NLP','It is likely to be useful, to people','Machine Learning is the new electricity','There would be less hype around AI and more action going forward',\n       'python is the best tool!','R is good language','i Like this book','I want more book like this']\n",
      "execution_count": 2,
      "outputs": []
    },
    {
      "metadata": {
        "trusted": true
      },
      "cell_type": "code",
      "source": "import pandas as pd\ndf = pd.DataFrame({'tweet':text})\ndf['tweet']",
      "execution_count": 3,
      "outputs": [
        {
          "output_type": "execute_result",
          "execution_count": 3,
          "data": {
            "text/plain": "0                          This is introduction to NLP\n1                 It is likely to be useful, to people\n2              Machine Learning is the new electricity\n3    There would be less hype around AI and more ac...\n4                             python is the best tool!\n5                                   R is good language\n6                                     i Like this book\n7                           I want more book like this\nName: tweet, dtype: object"
          },
          "metadata": {}
        }
      ]
    },
    {
      "metadata": {
        "trusted": true
      },
      "cell_type": "code",
      "source": "!pip install -U nltk",
      "execution_count": 4,
      "outputs": [
        {
          "output_type": "stream",
          "text": "Collecting nltk\n\u001b[?25l  Downloading https://files.pythonhosted.org/packages/f6/1d/d925cfb4f324ede997f6d47bea4d9babba51b49e87a767c170b77005889d/nltk-3.4.5.zip (1.5MB)\n\u001b[K     |████████████████████████████████| 1.5MB 3.3MB/s eta 0:00:01     |████████████▍                   | 563kB 3.3MB/s eta 0:00:01\n\u001b[?25hRequirement already satisfied, skipping upgrade: six in /home/nbuser/anaconda3_501/lib/python3.6/site-packages (from nltk) (1.11.0)\nBuilding wheels for collected packages: nltk\n  Building wheel for nltk (setup.py) ... \u001b[?25ldone\n\u001b[?25h  Created wheel for nltk: filename=nltk-3.4.5-cp36-none-any.whl size=1450721 sha256=ea7df7750e1fc61e9f9c848038b6757880a5cc72e08ed44572e0d9a28128edf0\n  Stored in directory: /home/nbuser/.cache/pip/wheels/96/86/f6/68ab24c23f207c0077381a5e3904b2815136b879538a24b483\nSuccessfully built nltk\nInstalling collected packages: nltk\n  Found existing installation: nltk 3.3\n    Uninstalling nltk-3.3:\n      Successfully uninstalled nltk-3.3\nSuccessfully installed nltk-3.4.5\n\u001b[33mWARNING: You are using pip version 19.2.2, however version 19.2.3 is available.\nYou should consider upgrading via the 'pip install --upgrade pip' command.\u001b[0m\n",
          "name": "stdout"
        }
      ]
    },
    {
      "metadata": {
        "trusted": true
      },
      "cell_type": "code",
      "source": "import nltk\nnltk.download('stopwords')\nfrom nltk.corpus import stopwords\nstop = stopwords.words('english')\n\ndf['tweet'] = df['tweet'].apply(lambda x: ' '.join(x for x in x.split() if x not in stop))\ndf['tweet']\n\n",
      "execution_count": 6,
      "outputs": [
        {
          "output_type": "stream",
          "text": "[nltk_data] Downloading package stopwords to /home/nbuser/nltk_data...\n[nltk_data]   Package stopwords is already up-to-date!\n",
          "name": "stderr"
        },
        {
          "output_type": "execute_result",
          "execution_count": 6,
          "data": {
            "text/plain": "0                                This introduction NLP\n1                             It likely useful, people\n2                     Machine Learning new electricity\n3    There would less hype around AI action going f...\n4                                    python best tool!\n5                                      R good language\n6                                            Like book\n7                                     I want book like\nName: tweet, dtype: object"
          },
          "metadata": {}
        }
      ]
    },
    {
      "metadata": {
        "trusted": true
      },
      "cell_type": "code",
      "source": "",
      "execution_count": null,
      "outputs": []
    }
  ],
  "metadata": {
    "kernelspec": {
      "name": "python36",
      "display_name": "Python 3.6",
      "language": "python"
    },
    "language_info": {
      "mimetype": "text/x-python",
      "nbconvert_exporter": "python",
      "name": "python",
      "pygments_lexer": "ipython3",
      "version": "3.6.6",
      "file_extension": ".py",
      "codemirror_mode": {
        "version": 3,
        "name": "ipython"
      }
    }
  },
  "nbformat": 4,
  "nbformat_minor": 2
}