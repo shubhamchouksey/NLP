{
  "cells": [
    {
      "metadata": {
        "trusted": true
      },
      "cell_type": "code",
      "source": "lookup_dict = {'nlp':'natural language processing','ur':'your','wbu':'what about you'}\nimport re",
      "execution_count": 1,
      "outputs": []
    },
    {
      "metadata": {
        "trusted": true
      },
      "cell_type": "code",
      "source": "def text_std(input_text):\n    words = input_text.split()\n    new_words =[]\n    for word in words:\n        word = re.sub(r'[^\\w\\s]','',word)\n        print(word)\n        if word.lower() in lookup_dict:\n            word = lookup_dict[word.lower()]\n            new_words.append(word)\n            #print(new_words)\n            new_text = ' '.join(new_words)\n            #print(new_text)\n    return new_text",
      "execution_count": 2,
      "outputs": []
    },
    {
      "metadata": {
        "trusted": true
      },
      "cell_type": "code",
      "source": "text_std(\"I like nlp it's ur choice\")",
      "execution_count": 3,
      "outputs": [
        {
          "output_type": "stream",
          "text": "I\nlike\nnlp\nits\nur\nchoice\n",
          "name": "stdout"
        },
        {
          "output_type": "execute_result",
          "execution_count": 3,
          "data": {
            "text/plain": "'natural language processing your'"
          },
          "metadata": {}
        }
      ]
    },
    {
      "metadata": {
        "trusted": true
      },
      "cell_type": "code",
      "source": "",
      "execution_count": null,
      "outputs": []
    }
  ],
  "metadata": {
    "kernelspec": {
      "name": "python36",
      "display_name": "Python 3.6",
      "language": "python"
    },
    "language_info": {
      "mimetype": "text/x-python",
      "nbconvert_exporter": "python",
      "name": "python",
      "pygments_lexer": "ipython3",
      "version": "3.6.6",
      "file_extension": ".py",
      "codemirror_mode": {
        "version": 3,
        "name": "ipython"
      }
    }
  },
  "nbformat": 4,
  "nbformat_minor": 2
}