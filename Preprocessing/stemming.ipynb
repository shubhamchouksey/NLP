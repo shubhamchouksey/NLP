{
  "cells": [
    {
      "metadata": {
        "trusted": true
      },
      "cell_type": "code",
      "source": "text=['I like fishing','I eat fish','There are many fishes in the pound']",
      "execution_count": 20,
      "outputs": []
    },
    {
      "metadata": {
        "trusted": true
      },
      "cell_type": "code",
      "source": "import pandas as pd\ndf = pd.DataFrame({'tweet':text})",
      "execution_count": 21,
      "outputs": []
    },
    {
      "metadata": {
        "trusted": true
      },
      "cell_type": "code",
      "source": "print(df)",
      "execution_count": 22,
      "outputs": [
        {
          "output_type": "stream",
          "text": "                                tweet\n0                      I like fishing\n1                          I eat fish\n2  There are many fishes in the pound\n",
          "name": "stdout"
        }
      ]
    },
    {
      "metadata": {
        "trusted": true
      },
      "cell_type": "code",
      "source": "from nltk.stem import PorterStemmer\nst = PorterStemmer()\n\ndf['tweet'].apply(lambda x: \" \".join(st.stem(word) for word in x.split()))",
      "execution_count": 23,
      "outputs": [
        {
          "output_type": "execute_result",
          "execution_count": 23,
          "data": {
            "text/plain": "0                         I like fish\n1                          I eat fish\n2    there are mani fish in the pound\nName: tweet, dtype: object"
          },
          "metadata": {}
        }
      ]
    },
    {
      "metadata": {
        "trusted": true
      },
      "cell_type": "code",
      "source": "help('nltk.stem')",
      "execution_count": 24,
      "outputs": [
        {
          "output_type": "stream",
          "text": "Help on package nltk.stem in nltk:\n\nNAME\n    nltk.stem - NLTK Stemmers\n\nDESCRIPTION\n    Interfaces used to remove morphological affixes from words, leaving\n    only the word stem.  Stemming algorithms aim to remove those affixes\n    required for eg. grammatical role, tense, derivational morphology\n    leaving only the stem of the word.  This is a difficult problem due to\n    irregular words (eg. common verbs in English), complicated\n    morphological rules, and part-of-speech and sense ambiguities\n    (eg. ``ceil-`` is not the stem of ``ceiling``).\n    \n    StemmerI defines a standard interface for stemmers.\n\nPACKAGE CONTENTS\n    api\n    arlstem\n    cistem\n    isri\n    lancaster\n    porter\n    regexp\n    rslp\n    snowball\n    util\n    wordnet\n\nFILE\n    /home/nbuser/anaconda3_501/lib/python3.6/site-packages/nltk/stem/__init__.py\n\n\n",
          "name": "stdout"
        }
      ]
    },
    {
      "metadata": {
        "trusted": true
      },
      "cell_type": "code",
      "source": "from nltk.stem import PorterStemmer\nst = PorterStemmer()\n\ndf['tweet'].apply(lambda x: \" \".join(st.stem(word) for word in x.split()))\n#df['tweet'].apply(lambda x: \" \".join(st.stem(word) for word in x.split())",
      "execution_count": 25,
      "outputs": [
        {
          "output_type": "execute_result",
          "execution_count": 25,
          "data": {
            "text/plain": "0                         I like fish\n1                          I eat fish\n2    there are mani fish in the pound\nName: tweet, dtype: object"
          },
          "metadata": {}
        }
      ]
    },
    {
      "metadata": {
        "trusted": true
      },
      "cell_type": "code",
      "source": "def demo():\n    \"\"\"\n    A demonstration of the porter stemmer on a sample from\n    the Penn Treebank corpus.\n    \"\"\"\n\n    from nltk.corpus import treebank\n    from nltk import stem\n\n    stemmer = stem.PorterStemmer()\n\n    orig = []\n    stemmed = []\n    for item in treebank.fileids()[:3]:\n        for (word, tag) in treebank.tagged_words(item):\n            #print(word,tag)\n            orig.append(word)\n            stemmed.append(stemmer.stem(word))\n    \n    print(stemmed)\n\n    # Convert the results to a string, and word-wrap them.\n    results = ' '.join(stemmed)\n    results = re.sub(r\"(.{,70})\\s\", r'\\1\\n', results + ' ').rstrip()      '\\1 means the first group - i.e. the first bracketed expression (.{,70})'\n\n    # Convert the original to a string, and word wrap it.\n    original = ' '.join(orig)\n    original = re.sub(r\"(.{,70})\\s\", r'\\1\\n', original + ' ').rstrip()\n\n    # Print the results.\n    print('-Original-'.center(70).replace(' ', '*').replace('-', ' '))\n    print(original)\n    print('-Results-'.center(70).replace(' ', '*').replace('-', ' '))\n    print(results)\n    print('*' * 70)",
      "execution_count": 44,
      "outputs": []
    },
    {
      "metadata": {
        "trusted": true
      },
      "cell_type": "code",
      "source": "import nltk\nnltk.download('treebank')\n",
      "execution_count": 34,
      "outputs": [
        {
          "output_type": "stream",
          "text": "[nltk_data] Downloading package treebank to /home/nbuser/nltk_data...\n[nltk_data]   Package treebank is already up-to-date!\n",
          "name": "stderr"
        },
        {
          "output_type": "execute_result",
          "execution_count": 34,
          "data": {
            "text/plain": "True"
          },
          "metadata": {}
        }
      ]
    },
    {
      "metadata": {
        "trusted": true
      },
      "cell_type": "code",
      "source": "import re\ndemo()",
      "execution_count": 45,
      "outputs": [
        {
          "output_type": "stream",
          "text": "['pierr', 'vinken', ',', '61', 'year', 'old', ',', 'will', 'join', 'the', 'board', 'as', 'a', 'nonexecut', 'director', 'nov.', '29', '.', 'mr.', 'vinken', 'is', 'chairman', 'of', 'elsevi', 'n.v.', ',', 'the', 'dutch', 'publish', 'group', '.', 'rudolph', 'agnew', ',', '55', 'year', 'old', 'and', 'former', 'chairman', 'of', 'consolid', 'gold', 'field', 'plc', ',', 'wa', 'name', '*-1', 'a', 'nonexecut', 'director', 'of', 'thi', 'british', 'industri', 'conglomer', '.', 'A', 'form', 'of', 'asbesto', 'onc', 'use', '*', '*', 'to', 'make', 'kent', 'cigarett', 'filter', 'ha', 'caus', 'a', 'high', 'percentag', 'of', 'cancer', 'death', 'among', 'a', 'group', 'of', 'worker', 'expos', '*', 'to', 'it', 'more', 'than', '30', 'year', 'ago', ',', 'research', 'report', '0', '*t*-1', '.', 'the', 'asbesto', 'fiber', ',', 'crocidolit', ',', 'is', 'unusu', 'resili', 'onc', 'it', 'enter', 'the', 'lung', ',', 'with', 'even', 'brief', 'exposur', 'to', 'it', 'caus', 'symptom', 'that', '*t*-1', 'show', 'up', 'decad', 'later', ',', 'research', 'said', '0', '*t*-2', '.', 'lorillard', 'inc.', ',', 'the', 'unit', 'of', 'new', 'york-bas', 'loew', 'corp.', 'that', '*t*-2', 'make', 'kent', 'cigarett', ',', 'stop', 'use', 'crocidolit', 'in', 'it', 'micronit', 'cigarett', 'filter', 'in', '1956', '.', 'although', 'preliminari', 'find', 'were', 'report', '*-2', 'more', 'than', 'a', 'year', 'ago', ',', 'the', 'latest', 'result', 'appear', 'in', 'today', \"'s\", 'new', 'england', 'journal', 'of', 'medicin', ',', 'a', 'forum', 'like', '*', 'to', 'bring', 'new', 'attent', 'to', 'the', 'problem', '.', 'A', 'lorillard', 'spokewoman', 'said', ',', '``', 'thi', 'is', 'an', 'old', 'stori', '.', 'We', \"'re\", 'talk', 'about', 'year', 'ago', 'befor', 'anyon', 'heard', 'of', 'asbesto', 'have', 'ani', 'question', 'properti', '.', 'there', 'is', 'no', 'asbesto', 'in', 'our', 'product', 'now', '.', \"''\", 'neither', 'lorillard', 'nor', 'the', 'research', 'who', '*t*-3', 'studi', 'the', 'worker', 'were', 'awar', 'of', 'ani', 'research', 'on', 'smoker', 'of', 'the', 'kent', 'cigarett', '.', '``', 'We', 'have', 'no', 'use', 'inform', 'on', 'whether', 'user', 'are', 'at', 'risk', ',', \"''\", 'said', '*t*-1', 'jame', 'A.', 'talcott', 'of', 'boston', \"'s\", 'dana-farb', 'cancer', 'institut', '.', 'dr.', 'talcott', 'led', 'a', 'team', 'of', 'research', 'from', 'the', 'nation', 'cancer', 'institut', 'and', 'the', 'medic', 'school', 'of', 'harvard', 'univers', 'and', 'boston', 'univers', '.', 'the', 'lorillard', 'spokeswoman', 'said', '0', 'asbesto', 'wa', 'use', '*-1', 'in', '``', 'veri', 'modest', 'amount', \"''\", 'in', '*', 'make', 'paper', 'for', 'the', 'filter', 'in', 'the', 'earli', '1950', 'and', 'replac', '*-1', 'with', 'a', 'differ', 'type', 'of', 'filter', 'in', '1956', '.', 'from', '1953', 'to', '1955', ',', '9.8', 'billion', 'kent', 'cigarett', 'with', 'the', 'filter', 'were', 'sold', '*-3', ',', 'the', 'compani', 'said', '0', '*t*-1', '.', 'among', '33', 'men', 'who', '*t*-4', 'work', 'close', 'with', 'the', 'substanc', ',', '28', '*ich*-1', 'have', 'die', '--', 'more', 'than', 'three', 'time', 'the', 'expect', 'number', '.', 'four', 'of', 'the', 'five', 'surviv', 'worker', 'have', 'asbestos-rel', 'diseas', ',', 'includ', 'three', 'with', 'recent', 'diagnos', 'cancer', '.', 'the', 'total', 'of', '18', 'death', 'from', 'malign', 'mesothelioma', ',', 'lung', 'cancer', 'and', 'asbestosi', 'wa', 'far', 'higher', 'than', '*', 'expect', '*?*', ',', 'the', 'research', 'said', '0', '*t*-1', '.', '``', 'the', 'morbid', 'rate', 'is', 'a', 'strike', 'find', 'among', 'those', 'of', 'us', 'who', '*t*-5', 'studi', 'asbestos-rel', 'diseas', ',', \"''\", 'said', '*t*-1', 'dr.', 'talcott', '.', 'the', 'percentag', 'of', 'lung', 'cancer', 'death', 'among', 'the', 'worker', 'at', 'the', 'west', 'groton', ',', 'mass.', ',', 'paper', 'factori', 'appear', '*-1', 'to', 'be', 'the', 'highest', 'for', 'ani', 'asbesto', 'worker', 'studi', '*', 'in', 'western', 'industri', 'countri', ',', 'he', 'said', '0', '*t*-2', '.', 'the', 'plant', ',', 'which', '*t*-1', 'is', 'own', '*-4', 'by', 'hollingsworth', '&', 'vose', 'co.', ',', 'wa', 'under', 'contract', '*ich*-2', 'with', 'lorillard', '*', 'to', 'make', 'the', 'cigarett', 'filter', '.', 'the', 'find', 'probabl', 'will', 'support', 'those', 'who', '*t*-6', 'argu', 'that', 'the', 'u.s.', 'should', 'regul', 'the', 'class', 'of', 'asbesto', 'includ', 'crocidolit', 'more', 'stringent', 'than', 'the', 'common', 'kind', 'of', 'asbesto', ',', 'chrysotil', ',', 'found', '*', 'in', 'most', 'school', 'and', 'other', 'build', ',', 'dr.', 'talcott', 'said', '0', '*t*-1', '.', 'the', 'u.s.', 'is', 'one', 'of', 'the', 'few', 'industri', 'nation', 'that', '*t*-7', 'doe', \"n't\", 'have', 'a', 'higher', 'standard', 'of', 'regul', 'for', 'the', 'smooth', ',', 'needle-lik', 'fiber', 'such', 'as', 'crocidolit', 'that', '*t*-1', 'are', 'classifi', '*-5', 'as', 'amphobil', ',', 'accord', 'to', 'brook', 'T.', 'mossman', ',', 'a', 'professor', 'of', 'pathlog', 'at', 'the', 'univers', 'of', 'vermont', 'colleg', 'of', 'medicin', '.', 'more', 'common', 'chrysotil', 'fiber', 'are', 'curli', 'and', 'are', 'more', 'easili', 'reject', '*-1', 'by', 'the', 'bodi', ',', 'dr.', 'mossman', 'explain', '0', '*t*-2', '.', 'In', 'juli', ',', 'the', 'environment', 'protect', 'agenc', 'impos', 'a', 'gradual', 'ban', 'on', 'virtual', 'all', 'use', 'of', 'asbesto', '.', 'By', '1997', ',', 'almost', 'all', 'remain', 'use', 'of', 'cancer-caus', 'asbesto', 'will', 'be', 'outlaw', '*-6', '.', 'about', '160', 'worker', 'at', 'a', 'factori', 'that', '*t*-8', 'made', 'paper', 'for', 'the', 'kent', 'filter', 'were', 'expos', '*-7', 'to', 'asbesto', 'in', 'the', '1950', '.', 'area', 'of', 'the', 'factori', '*ich*-2', 'were', 'particularli', 'dusti', 'where', 'the', 'crocidolit', 'wa', 'use', '*-8', '*t*-1', '.', 'worker', 'dump', 'larg', 'burlap', 'sack', 'of', 'the', 'import', 'materi', 'into', 'a', 'huge', 'bin', ',', 'pour', 'in', 'cotton', 'and', 'acet', 'fiber', 'and', 'mechan', 'mix', 'the', 'dri', 'fiber', 'in', 'a', 'process', 'use', '*', '*', 'to', 'make', 'filter', '.', 'worker', 'describ', '``', 'cloud', 'of', 'blue', 'dust', \"''\", 'that', '*t*-1', 'hung', 'over', 'part', 'of', 'the', 'factori', ',', 'even', 'though', 'exhaust', 'fan', 'ventil', 'the', 'area', '.', '``', 'there', \"'s\", 'no', 'question', 'that', 'some', 'of', 'those', 'worker', 'and', 'manag', 'contract', 'asbestos-rel', 'diseas', ',', \"''\", 'said', '*t*-1', 'darrel', 'phillip', ',', 'vice', 'presid', 'of', 'human', 'resourc', 'for', 'hollingsworth', '&', 'vose', '.', '``', 'but', 'you', 'have', '*-1', 'to', 'recogn', 'that', 'these', 'event', 'took', 'place', '35', 'year', 'ago', '.', 'It', 'ha', 'no', 'bear', 'on', 'our', 'work', 'forc', 'today', '.']\n****************************** Original ******************************\nPierre Vinken , 61 years old , will join the board as a nonexecutive\ndirector Nov. 29 . Mr. Vinken is chairman of Elsevier N.V. , the Dutch\npublishing group . Rudolph Agnew , 55 years old and former chairman of\nConsolidated Gold Fields PLC , was named *-1 a nonexecutive director\nof this British industrial conglomerate . A form of asbestos once used\n* * to make Kent cigarette filters has caused a high percentage of\ncancer deaths among a group of workers exposed * to it more than 30\nyears ago , researchers reported 0 *T*-1 . The asbestos fiber ,\ncrocidolite , is unusually resilient once it enters the lungs , with\neven brief exposures to it causing symptoms that *T*-1 show up decades\nlater , researchers said 0 *T*-2 . Lorillard Inc. , the unit of New\nYork-based Loews Corp. that *T*-2 makes Kent cigarettes , stopped\nusing crocidolite in its Micronite cigarette filters in 1956 .\nAlthough preliminary findings were reported *-2 more than a year ago ,\nthe latest results appear in today 's New England Journal of Medicine\n, a forum likely * to bring new attention to the problem . A Lorillard\nspokewoman said , `` This is an old story . We 're talking about years\nago before anyone heard of asbestos having any questionable properties\n. There is no asbestos in our products now . '' Neither Lorillard nor\nthe researchers who *T*-3 studied the workers were aware of any\nresearch on smokers of the Kent cigarettes . `` We have no useful\ninformation on whether users are at risk , '' said *T*-1 James A.\nTalcott of Boston 's Dana-Farber Cancer Institute . Dr. Talcott led a\nteam of researchers from the National Cancer Institute and the medical\nschools of Harvard University and Boston University . The Lorillard\nspokeswoman said 0 asbestos was used *-1 in `` very modest amounts ''\nin * making paper for the filters in the early 1950s and replaced *-1\nwith a different type of filter in 1956 . From 1953 to 1955 , 9.8\nbillion Kent cigarettes with the filters were sold *-3 , the company\nsaid 0 *T*-1 . Among 33 men who *T*-4 worked closely with the\nsubstance , 28 *ICH*-1 have died -- more than three times the expected\nnumber . Four of the five surviving workers have asbestos-related\ndiseases , including three with recently diagnosed cancer . The total\nof 18 deaths from malignant mesothelioma , lung cancer and asbestosis\nwas far higher than * expected *?* , the researchers said 0 *T*-1 . ``\nThe morbidity rate is a striking finding among those of us who *T*-5\nstudy asbestos-related diseases , '' said *T*-1 Dr. Talcott . The\npercentage of lung cancer deaths among the workers at the West Groton\n, Mass. , paper factory appears *-1 to be the highest for any asbestos\nworkers studied * in Western industrialized countries , he said 0\n*T*-2 . The plant , which *T*-1 is owned *-4 by Hollingsworth & Vose\nCo. , was under contract *ICH*-2 with Lorillard * to make the\ncigarette filters . The finding probably will support those who *T*-6\nargue that the U.S. should regulate the class of asbestos including\ncrocidolite more stringently than the common kind of asbestos ,\nchrysotile , found * in most schools and other buildings , Dr. Talcott\nsaid 0 *T*-1 . The U.S. is one of the few industrialized nations that\n*T*-7 does n't have a higher standard of regulation for the smooth ,\nneedle-like fibers such as crocidolite that *T*-1 are classified *-5\nas amphobiles , according to Brooke T. Mossman , a professor of\npathlogy at the University of Vermont College of Medicine . More\ncommon chrysotile fibers are curly and are more easily rejected *-1 by\nthe body , Dr. Mossman explained 0 *T*-2 . In July , the Environmental\nProtection Agency imposed a gradual ban on virtually all uses of\nasbestos . By 1997 , almost all remaining uses of cancer-causing\nasbestos will be outlawed *-6 . About 160 workers at a factory that\n*T*-8 made paper for the Kent filters were exposed *-7 to asbestos in\nthe 1950s . Areas of the factory *ICH*-2 were particularly dusty where\nthe crocidolite was used *-8 *T*-1 . Workers dumped large burlap sacks\nof the imported material into a huge bin , poured in cotton and\nacetate fibers and mechanically mixed the dry fibers in a process used\n* * to make filters . Workers described `` clouds of blue dust '' that\n*T*-1 hung over parts of the factory , even though exhaust fans\nventilated the area . `` There 's no question that some of those\nworkers and managers contracted asbestos-related diseases , '' said\n*T*-1 Darrell Phillips , vice president of human resources for\nHollingsworth & Vose . `` But you have *-1 to recognize that these\nevents took place 35 years ago . It has no bearing on our work force\ntoday .\n****************************** Results *******************************\npierr vinken , 61 year old , will join the board as a nonexecut\ndirector nov. 29 . mr. vinken is chairman of elsevi n.v. , the dutch\npublish group . rudolph agnew , 55 year old and former chairman of\nconsolid gold field plc , wa name *-1 a nonexecut director of thi\nbritish industri conglomer . A form of asbesto onc use * * to make\nkent cigarett filter ha caus a high percentag of cancer death among a\ngroup of worker expos * to it more than 30 year ago , research report\n0 *t*-1 . the asbesto fiber , crocidolit , is unusu resili onc it\nenter the lung , with even brief exposur to it caus symptom that *t*-1\nshow up decad later , research said 0 *t*-2 . lorillard inc. , the\nunit of new york-bas loew corp. that *t*-2 make kent cigarett , stop\nuse crocidolit in it micronit cigarett filter in 1956 . although\npreliminari find were report *-2 more than a year ago , the latest\nresult appear in today 's new england journal of medicin , a forum\nlike * to bring new attent to the problem . A lorillard spokewoman\nsaid , `` thi is an old stori . We 're talk about year ago befor anyon\nheard of asbesto have ani question properti . there is no asbesto in\nour product now . '' neither lorillard nor the research who *t*-3\nstudi the worker were awar of ani research on smoker of the kent\ncigarett . `` We have no use inform on whether user are at risk , ''\nsaid *t*-1 jame A. talcott of boston 's dana-farb cancer institut .\ndr. talcott led a team of research from the nation cancer institut and\nthe medic school of harvard univers and boston univers . the lorillard\nspokeswoman said 0 asbesto wa use *-1 in `` veri modest amount '' in *\nmake paper for the filter in the earli 1950 and replac *-1 with a\ndiffer type of filter in 1956 . from 1953 to 1955 , 9.8 billion kent\ncigarett with the filter were sold *-3 , the compani said 0 *t*-1 .\namong 33 men who *t*-4 work close with the substanc , 28 *ich*-1 have\ndie -- more than three time the expect number . four of the five\nsurviv worker have asbestos-rel diseas , includ three with recent\ndiagnos cancer . the total of 18 death from malign mesothelioma , lung\ncancer and asbestosi wa far higher than * expect *?* , the research\nsaid 0 *t*-1 . `` the morbid rate is a strike find among those of us\nwho *t*-5 studi asbestos-rel diseas , '' said *t*-1 dr. talcott . the\npercentag of lung cancer death among the worker at the west groton ,\nmass. , paper factori appear *-1 to be the highest for ani asbesto\nworker studi * in western industri countri , he said 0 *t*-2 . the\nplant , which *t*-1 is own *-4 by hollingsworth & vose co. , wa under\ncontract *ich*-2 with lorillard * to make the cigarett filter . the\nfind probabl will support those who *t*-6 argu that the u.s. should\nregul the class of asbesto includ crocidolit more stringent than the\ncommon kind of asbesto , chrysotil , found * in most school and other\nbuild , dr. talcott said 0 *t*-1 . the u.s. is one of the few industri\nnation that *t*-7 doe n't have a higher standard of regul for the\nsmooth , needle-lik fiber such as crocidolit that *t*-1 are classifi\n*-5 as amphobil , accord to brook T. mossman , a professor of pathlog\nat the univers of vermont colleg of medicin . more common chrysotil\nfiber are curli and are more easili reject *-1 by the bodi , dr.\nmossman explain 0 *t*-2 . In juli , the environment protect agenc\nimpos a gradual ban on virtual all use of asbesto . By 1997 , almost\nall remain use of cancer-caus asbesto will be outlaw *-6 . about 160\nworker at a factori that *t*-8 made paper for the kent filter were\nexpos *-7 to asbesto in the 1950 . area of the factori *ich*-2 were\nparticularli dusti where the crocidolit wa use *-8 *t*-1 . worker dump\nlarg burlap sack of the import materi into a huge bin , pour in cotton\nand acet fiber and mechan mix the dri fiber in a process use * * to\nmake filter . worker describ `` cloud of blue dust '' that *t*-1 hung\nover part of the factori , even though exhaust fan ventil the area .\n`` there 's no question that some of those worker and manag contract\nasbestos-rel diseas , '' said *t*-1 darrel phillip , vice presid of\nhuman resourc for hollingsworth & vose . `` but you have *-1 to recogn\nthat these event took place 35 year ago . It ha no bear on our work\nforc today .\n**********************************************************************\n",
          "name": "stdout"
        }
      ]
    },
    {
      "metadata": {
        "trusted": true
      },
      "cell_type": "code",
      "source": "results = ['pierr', 'vinken', ',', '61', 'year', 'old', \n           ',', 'will', 'join', 'the', 'board', 'as', 'a', 'nonexecut', 'director', 'nov.', \n           '29', '.', 'mr.', 'vinken', 'is', 'chairman', 'of', 'elsevi', 'n.v.', ',', \n           'the', 'dutch', 'publish', 'group', '.', 'rudolph', 'agnew', ',', '55', 'year', \n           'old', 'and', 'former', 'chairman', 'of', 'consolid', 'gold', 'field', 'plc', ',', \n           'wa', 'name', '*-1', 'a', 'nonexecut', 'director', 'of', 'thi', 'british', 'industri', 'conglomer', '.', 'A', 'form','.']\n\nresults = ' '.join(results)\nprint(results)\nresults = re.sub(r\"(.{,70})\\s\", r'\\1\\n', results+' ').rstrip()\nprint(results)",
      "execution_count": 58,
      "outputs": [
        {
          "output_type": "stream",
          "text": "pierr vinken , 61 year old , will join the board as a nonexecut director nov. 29 . mr. vinken is chairman of elsevi n.v. , the dutch publish group . rudolph agnew , 55 year old and former chairman of consolid gold field plc , wa name *-1 a nonexecut director of thi british industri conglomer . A form .\npierr vinken , 61 year old , will join the board as a nonexecut\ndirector nov. 29 . mr. vinken is chairman of elsevi n.v. , the dutch\npublish group . rudolph agnew , 55 year old and former chairman of\nconsolid gold field plc , wa name *-1 a nonexecut director of thi\nbritish industri conglomer . A form .\n",
          "name": "stdout"
        }
      ]
    },
    {
      "metadata": {
        "trusted": true
      },
      "cell_type": "code",
      "source": "",
      "execution_count": null,
      "outputs": []
    }
  ],
  "metadata": {
    "kernelspec": {
      "name": "python36",
      "display_name": "Python 3.6",
      "language": "python"
    },
    "language_info": {
      "mimetype": "text/x-python",
      "nbconvert_exporter": "python",
      "name": "python",
      "pygments_lexer": "ipython3",
      "version": "3.6.6",
      "file_extension": ".py",
      "codemirror_mode": {
        "version": 3,
        "name": "ipython"
      }
    }
  },
  "nbformat": 4,
  "nbformat_minor": 2
}